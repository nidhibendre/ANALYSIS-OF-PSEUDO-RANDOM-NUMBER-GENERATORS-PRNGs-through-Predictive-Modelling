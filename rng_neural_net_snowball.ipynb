{
  "nbformat": 4,
  "nbformat_minor": 0,
  "metadata": {
    "colab": {
      "provenance": [],
      "gpuType": "T4",
      "include_colab_link": true
    },
    "kernelspec": {
      "name": "python3",
      "display_name": "Python 3"
    },
    "language_info": {
      "name": "python"
    },
    "accelerator": "GPU"
  },
  "cells": [
    {
      "cell_type": "markdown",
      "metadata": {
        "id": "view-in-github",
        "colab_type": "text"
      },
      "source": [
        "<a href=\"https://colab.research.google.com/github/nidhibendre/ANALYSIS-OF-PSEUDO-RANDOM-NUMBER-GENERATORS-PRNGs-through-Predictive-Modelling/blob/main/rng_neural_net_snowball.ipynb\" target=\"_parent\"><img src=\"https://colab.research.google.com/assets/colab-badge.svg\" alt=\"Open In Colab\"/></a>"
      ]
    },
    {
      "cell_type": "markdown",
      "source": [
        "steps:\n",
        "- pick a breakable random number generator\n",
        "- figure out what the inputs and outputs for the model would be (what the hell are bits)\n",
        "- attempt a crude feed-forward neural network to see if it can predict\n",
        "- check its results and cry if it doesn't work\n",
        "\n",
        "https://research.nccgroup.com/2021/10/15/cracking-random-number-generators-using-machine-learning-part-1-xorshift128/"
      ],
      "metadata": {
        "id": "Lju00XJC4nbi"
      }
    },
    {
      "cell_type": "code",
      "source": [],
      "metadata": {
        "id": "HXTX3u-xDdR-"
      },
      "execution_count": null,
      "outputs": []
    },
    {
      "cell_type": "markdown",
      "source": [
        "potential other prngs:\n",
        "- https://www.johndcook.com/blog/2019/04/14/randu/\n",
        "https://en.wikipedia.org/wiki/Middle-square_method"
      ],
      "metadata": {
        "id": "Y3X6VkzozhEU"
      }
    },
    {
      "cell_type": "markdown",
      "source": [
        "data cleaning:\n",
        "- given the last 4 randomly generated numbers A_1, A_2, A_3, A_4, can a neural net predict the next randomly generated number A_5\n",
        "- The dataset should be straightforward to make (run xorshift128 a bunch of times and store A_1 - A_5 in a pandas dataframe and convert to bits) (please name your columns appropriately so you know what is X and what is Y)\n",
        "- They use a different error function where being correct is 1 and being wrong is 0. see if this is implementable in pytorch"
      ],
      "metadata": {
        "id": "irs_6rck5QX5"
      }
    },
    {
      "cell_type": "code",
      "source": [
        "import matplotlib.pyplot as plt"
      ],
      "metadata": {
        "id": "7g82HaRk1nuI"
      },
      "execution_count": null,
      "outputs": []
    },
    {
      "cell_type": "code",
      "source": [
        "\n",
        "import numpy as np\n",
        "import pandas as pd\n",
        "\n",
        "def xorshift128():\n",
        "    '''xorshift\n",
        "    https://ja.wikipedia.org/wiki/Xorshift\n",
        "    '''\n",
        "\n",
        "    x = 123456789\n",
        "    y = 362436069\n",
        "    z = 521288629\n",
        "    w = 88675123\n",
        "\n",
        "    def _random():\n",
        "        nonlocal x, y, z, w\n",
        "        t = x ^ ((x << 11) & 0xFFFFFFFF)  # 32bit\n",
        "        x, y, z = y, z, w\n",
        "        w = (w ^ (w >> 19)) ^ (t ^ (t >> 8))\n",
        "        return w\n",
        "\n",
        "    return _random\n",
        "\n",
        "r = xorshift128()\n",
        "\n",
        "vals = []\n",
        "for i in range(10000):\n",
        "    vals.append(r())\n",
        "\n",
        "\n",
        "a_1 = []\n",
        "for i in range(0, len(vals)-4):\n",
        "    a_1.append(vals[i])\n",
        "\n",
        "a_2 = []\n",
        "for i in range(1, len(vals)-3):\n",
        "    a_2.append(vals[i])\n",
        "\n",
        "a_3 = []\n",
        "for i in range(2, len(vals)-2):\n",
        "    a_3.append(vals[i])\n",
        "\n",
        "a_4 = []\n",
        "for i in range(3, len(vals)-1):\n",
        "    a_4.append(vals[i])\n",
        "\n",
        "a_5 = []\n",
        "for i in range(4, len(vals)):\n",
        "    a_5.append(vals[i])\n",
        "\n",
        "rng_df = pd.DataFrame(\n",
        "    {\n",
        "    'A_1': a_1,\n",
        "    'A_2': a_2,\n",
        "    'A_3': a_3,\n",
        "    'A_4': a_4,\n",
        "    'A_Pred': a_5\n",
        "}\n",
        ")\n",
        "print(rng_df)"
      ],
      "metadata": {
        "colab": {
          "base_uri": "https://localhost:8080/"
        },
        "id": "FWevoM7x5sO2",
        "outputId": "a89c5f79-522c-4b79-c3be-645fdaf18705"
      },
      "execution_count": null,
      "outputs": [
        {
          "output_type": "stream",
          "name": "stdout",
          "text": [
            "             A_1         A_2         A_3         A_4      A_Pred\n",
            "0     3701687786   458299110  2500872618  3633119408   516391518\n",
            "1      458299110  2500872618  3633119408   516391518  2377269574\n",
            "2     2500872618  3633119408   516391518  2377269574  2599949379\n",
            "3     3633119408   516391518  2377269574  2599949379   717229868\n",
            "4      516391518  2377269574  2599949379   717229868   137866584\n",
            "...          ...         ...         ...         ...         ...\n",
            "9991  1873544304  2185597721  2711216717  2798608042  2840543623\n",
            "9992  2185597721  2711216717  2798608042  2840543623   121426668\n",
            "9993  2711216717  2798608042  2840543623   121426668  1775883212\n",
            "9994  2798608042  2840543623   121426668  1775883212  3040864851\n",
            "9995  2840543623   121426668  1775883212  3040864851  1722795530\n",
            "\n",
            "[9996 rows x 5 columns]\n"
          ]
        }
      ]
    },
    {
      "cell_type": "code",
      "source": [
        "def convert_to_binary(number):\n",
        "    # https://www.geeksforgeeks.org/python-program-to-convert-a-number-into-32-bit-binary-format/\n",
        "    binary_str = bin(number)[2:]\n",
        "    binary_32_bit = binary_str.zfill(32)\n",
        "    return binary_32_bit\n",
        "\n",
        "sample_bin = convert_to_binary(2798608042)\n",
        "print(sample_bin)\n",
        "print(type(sample_bin))\n",
        "# sample_num = int(sample_bin)\n",
        "# print(sample_num)\n",
        "# print(type(sample_num))"
      ],
      "metadata": {
        "colab": {
          "base_uri": "https://localhost:8080/"
        },
        "id": "6Fmy44q8qwT9",
        "outputId": "302fd522-8a6b-4090-c52f-242b22ce0c11"
      },
      "execution_count": null,
      "outputs": [
        {
          "output_type": "stream",
          "name": "stdout",
          "text": [
            "10100110110011110101111010101010\n",
            "<class 'str'>\n"
          ]
        }
      ]
    },
    {
      "cell_type": "markdown",
      "source": [
        "- Turn X len 4 y len 1 into X len 128 y len 32 using the binary converter above\n",
        "- seperate the data into train and test using sklearn train test split\n",
        "- preferable: convert the data into tensors\n",
        "- preferable: get model below to run"
      ],
      "metadata": {
        "id": "QBMRFzmmxwqG"
      }
    },
    {
      "cell_type": "code",
      "source": [
        "df = pd.DataFrame(rng_df)\n",
        "print(df.columns)\n",
        "df.head()"
      ],
      "metadata": {
        "colab": {
          "base_uri": "https://localhost:8080/",
          "height": 224
        },
        "id": "CkhoSFqvrW73",
        "outputId": "fd7739e1-e3ba-43f4-fdb8-fb4c69fe5943"
      },
      "execution_count": null,
      "outputs": [
        {
          "output_type": "stream",
          "name": "stdout",
          "text": [
            "Index(['A_1', 'A_2', 'A_3', 'A_4', 'A_Pred'], dtype='object')\n"
          ]
        },
        {
          "output_type": "execute_result",
          "data": {
            "text/plain": [
              "          A_1         A_2         A_3         A_4      A_Pred\n",
              "0  3701687786   458299110  2500872618  3633119408   516391518\n",
              "1   458299110  2500872618  3633119408   516391518  2377269574\n",
              "2  2500872618  3633119408   516391518  2377269574  2599949379\n",
              "3  3633119408   516391518  2377269574  2599949379   717229868\n",
              "4   516391518  2377269574  2599949379   717229868   137866584"
            ],
            "text/html": [
              "\n",
              "  <div id=\"df-0dde632b-c882-4f65-8d41-257af2f85321\" class=\"colab-df-container\">\n",
              "    <div>\n",
              "<style scoped>\n",
              "    .dataframe tbody tr th:only-of-type {\n",
              "        vertical-align: middle;\n",
              "    }\n",
              "\n",
              "    .dataframe tbody tr th {\n",
              "        vertical-align: top;\n",
              "    }\n",
              "\n",
              "    .dataframe thead th {\n",
              "        text-align: right;\n",
              "    }\n",
              "</style>\n",
              "<table border=\"1\" class=\"dataframe\">\n",
              "  <thead>\n",
              "    <tr style=\"text-align: right;\">\n",
              "      <th></th>\n",
              "      <th>A_1</th>\n",
              "      <th>A_2</th>\n",
              "      <th>A_3</th>\n",
              "      <th>A_4</th>\n",
              "      <th>A_Pred</th>\n",
              "    </tr>\n",
              "  </thead>\n",
              "  <tbody>\n",
              "    <tr>\n",
              "      <th>0</th>\n",
              "      <td>3701687786</td>\n",
              "      <td>458299110</td>\n",
              "      <td>2500872618</td>\n",
              "      <td>3633119408</td>\n",
              "      <td>516391518</td>\n",
              "    </tr>\n",
              "    <tr>\n",
              "      <th>1</th>\n",
              "      <td>458299110</td>\n",
              "      <td>2500872618</td>\n",
              "      <td>3633119408</td>\n",
              "      <td>516391518</td>\n",
              "      <td>2377269574</td>\n",
              "    </tr>\n",
              "    <tr>\n",
              "      <th>2</th>\n",
              "      <td>2500872618</td>\n",
              "      <td>3633119408</td>\n",
              "      <td>516391518</td>\n",
              "      <td>2377269574</td>\n",
              "      <td>2599949379</td>\n",
              "    </tr>\n",
              "    <tr>\n",
              "      <th>3</th>\n",
              "      <td>3633119408</td>\n",
              "      <td>516391518</td>\n",
              "      <td>2377269574</td>\n",
              "      <td>2599949379</td>\n",
              "      <td>717229868</td>\n",
              "    </tr>\n",
              "    <tr>\n",
              "      <th>4</th>\n",
              "      <td>516391518</td>\n",
              "      <td>2377269574</td>\n",
              "      <td>2599949379</td>\n",
              "      <td>717229868</td>\n",
              "      <td>137866584</td>\n",
              "    </tr>\n",
              "  </tbody>\n",
              "</table>\n",
              "</div>\n",
              "    <div class=\"colab-df-buttons\">\n",
              "\n",
              "  <div class=\"colab-df-container\">\n",
              "    <button class=\"colab-df-convert\" onclick=\"convertToInteractive('df-0dde632b-c882-4f65-8d41-257af2f85321')\"\n",
              "            title=\"Convert this dataframe to an interactive table.\"\n",
              "            style=\"display:none;\">\n",
              "\n",
              "  <svg xmlns=\"http://www.w3.org/2000/svg\" height=\"24px\" viewBox=\"0 -960 960 960\">\n",
              "    <path d=\"M120-120v-720h720v720H120Zm60-500h600v-160H180v160Zm220 220h160v-160H400v160Zm0 220h160v-160H400v160ZM180-400h160v-160H180v160Zm440 0h160v-160H620v160ZM180-180h160v-160H180v160Zm440 0h160v-160H620v160Z\"/>\n",
              "  </svg>\n",
              "    </button>\n",
              "\n",
              "  <style>\n",
              "    .colab-df-container {\n",
              "      display:flex;\n",
              "      gap: 12px;\n",
              "    }\n",
              "\n",
              "    .colab-df-convert {\n",
              "      background-color: #E8F0FE;\n",
              "      border: none;\n",
              "      border-radius: 50%;\n",
              "      cursor: pointer;\n",
              "      display: none;\n",
              "      fill: #1967D2;\n",
              "      height: 32px;\n",
              "      padding: 0 0 0 0;\n",
              "      width: 32px;\n",
              "    }\n",
              "\n",
              "    .colab-df-convert:hover {\n",
              "      background-color: #E2EBFA;\n",
              "      box-shadow: 0px 1px 2px rgba(60, 64, 67, 0.3), 0px 1px 3px 1px rgba(60, 64, 67, 0.15);\n",
              "      fill: #174EA6;\n",
              "    }\n",
              "\n",
              "    .colab-df-buttons div {\n",
              "      margin-bottom: 4px;\n",
              "    }\n",
              "\n",
              "    [theme=dark] .colab-df-convert {\n",
              "      background-color: #3B4455;\n",
              "      fill: #D2E3FC;\n",
              "    }\n",
              "\n",
              "    [theme=dark] .colab-df-convert:hover {\n",
              "      background-color: #434B5C;\n",
              "      box-shadow: 0px 1px 3px 1px rgba(0, 0, 0, 0.15);\n",
              "      filter: drop-shadow(0px 1px 2px rgba(0, 0, 0, 0.3));\n",
              "      fill: #FFFFFF;\n",
              "    }\n",
              "  </style>\n",
              "\n",
              "    <script>\n",
              "      const buttonEl =\n",
              "        document.querySelector('#df-0dde632b-c882-4f65-8d41-257af2f85321 button.colab-df-convert');\n",
              "      buttonEl.style.display =\n",
              "        google.colab.kernel.accessAllowed ? 'block' : 'none';\n",
              "\n",
              "      async function convertToInteractive(key) {\n",
              "        const element = document.querySelector('#df-0dde632b-c882-4f65-8d41-257af2f85321');\n",
              "        const dataTable =\n",
              "          await google.colab.kernel.invokeFunction('convertToInteractive',\n",
              "                                                    [key], {});\n",
              "        if (!dataTable) return;\n",
              "\n",
              "        const docLinkHtml = 'Like what you see? Visit the ' +\n",
              "          '<a target=\"_blank\" href=https://colab.research.google.com/notebooks/data_table.ipynb>data table notebook</a>'\n",
              "          + ' to learn more about interactive tables.';\n",
              "        element.innerHTML = '';\n",
              "        dataTable['output_type'] = 'display_data';\n",
              "        await google.colab.output.renderOutput(dataTable, element);\n",
              "        const docLink = document.createElement('div');\n",
              "        docLink.innerHTML = docLinkHtml;\n",
              "        element.appendChild(docLink);\n",
              "      }\n",
              "    </script>\n",
              "  </div>\n",
              "\n",
              "\n",
              "<div id=\"df-bc0a4a1a-f469-4a94-8f71-88c6d1651271\">\n",
              "  <button class=\"colab-df-quickchart\" onclick=\"quickchart('df-bc0a4a1a-f469-4a94-8f71-88c6d1651271')\"\n",
              "            title=\"Suggest charts\"\n",
              "            style=\"display:none;\">\n",
              "\n",
              "<svg xmlns=\"http://www.w3.org/2000/svg\" height=\"24px\"viewBox=\"0 0 24 24\"\n",
              "     width=\"24px\">\n",
              "    <g>\n",
              "        <path d=\"M19 3H5c-1.1 0-2 .9-2 2v14c0 1.1.9 2 2 2h14c1.1 0 2-.9 2-2V5c0-1.1-.9-2-2-2zM9 17H7v-7h2v7zm4 0h-2V7h2v10zm4 0h-2v-4h2v4z\"/>\n",
              "    </g>\n",
              "</svg>\n",
              "  </button>\n",
              "\n",
              "<style>\n",
              "  .colab-df-quickchart {\n",
              "      --bg-color: #E8F0FE;\n",
              "      --fill-color: #1967D2;\n",
              "      --hover-bg-color: #E2EBFA;\n",
              "      --hover-fill-color: #174EA6;\n",
              "      --disabled-fill-color: #AAA;\n",
              "      --disabled-bg-color: #DDD;\n",
              "  }\n",
              "\n",
              "  [theme=dark] .colab-df-quickchart {\n",
              "      --bg-color: #3B4455;\n",
              "      --fill-color: #D2E3FC;\n",
              "      --hover-bg-color: #434B5C;\n",
              "      --hover-fill-color: #FFFFFF;\n",
              "      --disabled-bg-color: #3B4455;\n",
              "      --disabled-fill-color: #666;\n",
              "  }\n",
              "\n",
              "  .colab-df-quickchart {\n",
              "    background-color: var(--bg-color);\n",
              "    border: none;\n",
              "    border-radius: 50%;\n",
              "    cursor: pointer;\n",
              "    display: none;\n",
              "    fill: var(--fill-color);\n",
              "    height: 32px;\n",
              "    padding: 0;\n",
              "    width: 32px;\n",
              "  }\n",
              "\n",
              "  .colab-df-quickchart:hover {\n",
              "    background-color: var(--hover-bg-color);\n",
              "    box-shadow: 0 1px 2px rgba(60, 64, 67, 0.3), 0 1px 3px 1px rgba(60, 64, 67, 0.15);\n",
              "    fill: var(--button-hover-fill-color);\n",
              "  }\n",
              "\n",
              "  .colab-df-quickchart-complete:disabled,\n",
              "  .colab-df-quickchart-complete:disabled:hover {\n",
              "    background-color: var(--disabled-bg-color);\n",
              "    fill: var(--disabled-fill-color);\n",
              "    box-shadow: none;\n",
              "  }\n",
              "\n",
              "  .colab-df-spinner {\n",
              "    border: 2px solid var(--fill-color);\n",
              "    border-color: transparent;\n",
              "    border-bottom-color: var(--fill-color);\n",
              "    animation:\n",
              "      spin 1s steps(1) infinite;\n",
              "  }\n",
              "\n",
              "  @keyframes spin {\n",
              "    0% {\n",
              "      border-color: transparent;\n",
              "      border-bottom-color: var(--fill-color);\n",
              "      border-left-color: var(--fill-color);\n",
              "    }\n",
              "    20% {\n",
              "      border-color: transparent;\n",
              "      border-left-color: var(--fill-color);\n",
              "      border-top-color: var(--fill-color);\n",
              "    }\n",
              "    30% {\n",
              "      border-color: transparent;\n",
              "      border-left-color: var(--fill-color);\n",
              "      border-top-color: var(--fill-color);\n",
              "      border-right-color: var(--fill-color);\n",
              "    }\n",
              "    40% {\n",
              "      border-color: transparent;\n",
              "      border-right-color: var(--fill-color);\n",
              "      border-top-color: var(--fill-color);\n",
              "    }\n",
              "    60% {\n",
              "      border-color: transparent;\n",
              "      border-right-color: var(--fill-color);\n",
              "    }\n",
              "    80% {\n",
              "      border-color: transparent;\n",
              "      border-right-color: var(--fill-color);\n",
              "      border-bottom-color: var(--fill-color);\n",
              "    }\n",
              "    90% {\n",
              "      border-color: transparent;\n",
              "      border-bottom-color: var(--fill-color);\n",
              "    }\n",
              "  }\n",
              "</style>\n",
              "\n",
              "  <script>\n",
              "    async function quickchart(key) {\n",
              "      const quickchartButtonEl =\n",
              "        document.querySelector('#' + key + ' button');\n",
              "      quickchartButtonEl.disabled = true;  // To prevent multiple clicks.\n",
              "      quickchartButtonEl.classList.add('colab-df-spinner');\n",
              "      try {\n",
              "        const charts = await google.colab.kernel.invokeFunction(\n",
              "            'suggestCharts', [key], {});\n",
              "      } catch (error) {\n",
              "        console.error('Error during call to suggestCharts:', error);\n",
              "      }\n",
              "      quickchartButtonEl.classList.remove('colab-df-spinner');\n",
              "      quickchartButtonEl.classList.add('colab-df-quickchart-complete');\n",
              "    }\n",
              "    (() => {\n",
              "      let quickchartButtonEl =\n",
              "        document.querySelector('#df-bc0a4a1a-f469-4a94-8f71-88c6d1651271 button');\n",
              "      quickchartButtonEl.style.display =\n",
              "        google.colab.kernel.accessAllowed ? 'block' : 'none';\n",
              "    })();\n",
              "  </script>\n",
              "</div>\n",
              "\n",
              "    </div>\n",
              "  </div>\n"
            ],
            "application/vnd.google.colaboratory.intrinsic+json": {
              "type": "dataframe",
              "variable_name": "df",
              "summary": "{\n  \"name\": \"df\",\n  \"rows\": 9996,\n  \"fields\": [\n    {\n      \"column\": \"A_1\",\n      \"properties\": {\n        \"dtype\": \"number\",\n        \"std\": 1247508585,\n        \"min\": 168482,\n        \"max\": 4294090241,\n        \"num_unique_values\": 9996,\n        \"samples\": [\n          301991718,\n          3629000171,\n          2149876223\n        ],\n        \"semantic_type\": \"\",\n        \"description\": \"\"\n      }\n    },\n    {\n      \"column\": \"A_2\",\n      \"properties\": {\n        \"dtype\": \"number\",\n        \"std\": 1247574437,\n        \"min\": 168482,\n        \"max\": 4294090241,\n        \"num_unique_values\": 9996,\n        \"samples\": [\n          363707678,\n          2003358275,\n          4026293353\n        ],\n        \"semantic_type\": \"\",\n        \"description\": \"\"\n      }\n    },\n    {\n      \"column\": \"A_3\",\n      \"properties\": {\n        \"dtype\": \"number\",\n        \"std\": 1247466264,\n        \"min\": 168482,\n        \"max\": 4294090241,\n        \"num_unique_values\": 9996,\n        \"samples\": [\n          127497840,\n          2717182056,\n          1356243266\n        ],\n        \"semantic_type\": \"\",\n        \"description\": \"\"\n      }\n    },\n    {\n      \"column\": \"A_4\",\n      \"properties\": {\n        \"dtype\": \"number\",\n        \"std\": 1247493547,\n        \"min\": 168482,\n        \"max\": 4294090241,\n        \"num_unique_values\": 9996,\n        \"samples\": [\n          183985585,\n          1831629513,\n          542153223\n        ],\n        \"semantic_type\": \"\",\n        \"description\": \"\"\n      }\n    },\n    {\n      \"column\": \"A_Pred\",\n      \"properties\": {\n        \"dtype\": \"number\",\n        \"std\": 1247411250,\n        \"min\": 168482,\n        \"max\": 4294090241,\n        \"num_unique_values\": 9996,\n        \"samples\": [\n          417098494,\n          3303302138,\n          2229259403\n        ],\n        \"semantic_type\": \"\",\n        \"description\": \"\"\n      }\n    }\n  ]\n}"
            }
          },
          "metadata": {},
          "execution_count": 4
        }
      ]
    },
    {
      "cell_type": "code",
      "source": [
        "splitRows = []\n",
        "for idx, row in df.iterrows():\n",
        "  splitRow = {}\n",
        "  for idx, col in enumerate(df.columns):\n",
        "    for i in range(32):\n",
        "      splitRow[str(col)+\"_\"+str(i+1)] = convert_to_binary(row[col])[i]\n",
        "  splitRows.append(splitRow)\n",
        "df_split = pd.DataFrame(splitRows)\n",
        "df_split.head(5)"
      ],
      "metadata": {
        "id": "NZe3qCBRzG0X",
        "colab": {
          "base_uri": "https://localhost:8080/",
          "height": 256
        },
        "outputId": "16de901b-65c3-40ce-c71b-9f008eaf2b22"
      },
      "execution_count": null,
      "outputs": [
        {
          "output_type": "execute_result",
          "data": {
            "text/plain": [
              "  A_1_1 A_1_2 A_1_3 A_1_4 A_1_5 A_1_6 A_1_7 A_1_8 A_1_9 A_1_10  ... A_Pred_23  \\\n",
              "0     1     1     0     1     1     1     0     0     1      0  ...         1   \n",
              "1     0     0     0     1     1     0     1     1     0      1  ...         0   \n",
              "2     1     0     0     1     0     1     0     1     0      0  ...         0   \n",
              "3     1     1     0     1     1     0     0     0     1      0  ...         1   \n",
              "4     0     0     0     1     1     1     1     0     1      1  ...         0   \n",
              "\n",
              "  A_Pred_24 A_Pred_25 A_Pred_26 A_Pred_27 A_Pred_28 A_Pred_29 A_Pred_30  \\\n",
              "0         0         0         1         0         1         1         1   \n",
              "1         1         0         1         0         0         0         1   \n",
              "2         0         0         1         0         0         0         0   \n",
              "3         1         0         0         1         0         1         1   \n",
              "4         1         0         1         0         1         1         0   \n",
              "\n",
              "  A_Pred_31 A_Pred_32  \n",
              "0         1         0  \n",
              "1         1         0  \n",
              "2         1         1  \n",
              "3         0         0  \n",
              "4         0         0  \n",
              "\n",
              "[5 rows x 160 columns]"
            ],
            "text/html": [
              "\n",
              "  <div id=\"df-c870f787-4770-45f7-831d-1ecf3f4fff08\" class=\"colab-df-container\">\n",
              "    <div>\n",
              "<style scoped>\n",
              "    .dataframe tbody tr th:only-of-type {\n",
              "        vertical-align: middle;\n",
              "    }\n",
              "\n",
              "    .dataframe tbody tr th {\n",
              "        vertical-align: top;\n",
              "    }\n",
              "\n",
              "    .dataframe thead th {\n",
              "        text-align: right;\n",
              "    }\n",
              "</style>\n",
              "<table border=\"1\" class=\"dataframe\">\n",
              "  <thead>\n",
              "    <tr style=\"text-align: right;\">\n",
              "      <th></th>\n",
              "      <th>A_1_1</th>\n",
              "      <th>A_1_2</th>\n",
              "      <th>A_1_3</th>\n",
              "      <th>A_1_4</th>\n",
              "      <th>A_1_5</th>\n",
              "      <th>A_1_6</th>\n",
              "      <th>A_1_7</th>\n",
              "      <th>A_1_8</th>\n",
              "      <th>A_1_9</th>\n",
              "      <th>A_1_10</th>\n",
              "      <th>...</th>\n",
              "      <th>A_Pred_23</th>\n",
              "      <th>A_Pred_24</th>\n",
              "      <th>A_Pred_25</th>\n",
              "      <th>A_Pred_26</th>\n",
              "      <th>A_Pred_27</th>\n",
              "      <th>A_Pred_28</th>\n",
              "      <th>A_Pred_29</th>\n",
              "      <th>A_Pred_30</th>\n",
              "      <th>A_Pred_31</th>\n",
              "      <th>A_Pred_32</th>\n",
              "    </tr>\n",
              "  </thead>\n",
              "  <tbody>\n",
              "    <tr>\n",
              "      <th>0</th>\n",
              "      <td>1</td>\n",
              "      <td>1</td>\n",
              "      <td>0</td>\n",
              "      <td>1</td>\n",
              "      <td>1</td>\n",
              "      <td>1</td>\n",
              "      <td>0</td>\n",
              "      <td>0</td>\n",
              "      <td>1</td>\n",
              "      <td>0</td>\n",
              "      <td>...</td>\n",
              "      <td>1</td>\n",
              "      <td>0</td>\n",
              "      <td>0</td>\n",
              "      <td>1</td>\n",
              "      <td>0</td>\n",
              "      <td>1</td>\n",
              "      <td>1</td>\n",
              "      <td>1</td>\n",
              "      <td>1</td>\n",
              "      <td>0</td>\n",
              "    </tr>\n",
              "    <tr>\n",
              "      <th>1</th>\n",
              "      <td>0</td>\n",
              "      <td>0</td>\n",
              "      <td>0</td>\n",
              "      <td>1</td>\n",
              "      <td>1</td>\n",
              "      <td>0</td>\n",
              "      <td>1</td>\n",
              "      <td>1</td>\n",
              "      <td>0</td>\n",
              "      <td>1</td>\n",
              "      <td>...</td>\n",
              "      <td>0</td>\n",
              "      <td>1</td>\n",
              "      <td>0</td>\n",
              "      <td>1</td>\n",
              "      <td>0</td>\n",
              "      <td>0</td>\n",
              "      <td>0</td>\n",
              "      <td>1</td>\n",
              "      <td>1</td>\n",
              "      <td>0</td>\n",
              "    </tr>\n",
              "    <tr>\n",
              "      <th>2</th>\n",
              "      <td>1</td>\n",
              "      <td>0</td>\n",
              "      <td>0</td>\n",
              "      <td>1</td>\n",
              "      <td>0</td>\n",
              "      <td>1</td>\n",
              "      <td>0</td>\n",
              "      <td>1</td>\n",
              "      <td>0</td>\n",
              "      <td>0</td>\n",
              "      <td>...</td>\n",
              "      <td>0</td>\n",
              "      <td>0</td>\n",
              "      <td>0</td>\n",
              "      <td>1</td>\n",
              "      <td>0</td>\n",
              "      <td>0</td>\n",
              "      <td>0</td>\n",
              "      <td>0</td>\n",
              "      <td>1</td>\n",
              "      <td>1</td>\n",
              "    </tr>\n",
              "    <tr>\n",
              "      <th>3</th>\n",
              "      <td>1</td>\n",
              "      <td>1</td>\n",
              "      <td>0</td>\n",
              "      <td>1</td>\n",
              "      <td>1</td>\n",
              "      <td>0</td>\n",
              "      <td>0</td>\n",
              "      <td>0</td>\n",
              "      <td>1</td>\n",
              "      <td>0</td>\n",
              "      <td>...</td>\n",
              "      <td>1</td>\n",
              "      <td>1</td>\n",
              "      <td>0</td>\n",
              "      <td>0</td>\n",
              "      <td>1</td>\n",
              "      <td>0</td>\n",
              "      <td>1</td>\n",
              "      <td>1</td>\n",
              "      <td>0</td>\n",
              "      <td>0</td>\n",
              "    </tr>\n",
              "    <tr>\n",
              "      <th>4</th>\n",
              "      <td>0</td>\n",
              "      <td>0</td>\n",
              "      <td>0</td>\n",
              "      <td>1</td>\n",
              "      <td>1</td>\n",
              "      <td>1</td>\n",
              "      <td>1</td>\n",
              "      <td>0</td>\n",
              "      <td>1</td>\n",
              "      <td>1</td>\n",
              "      <td>...</td>\n",
              "      <td>0</td>\n",
              "      <td>1</td>\n",
              "      <td>0</td>\n",
              "      <td>1</td>\n",
              "      <td>0</td>\n",
              "      <td>1</td>\n",
              "      <td>1</td>\n",
              "      <td>0</td>\n",
              "      <td>0</td>\n",
              "      <td>0</td>\n",
              "    </tr>\n",
              "  </tbody>\n",
              "</table>\n",
              "<p>5 rows × 160 columns</p>\n",
              "</div>\n",
              "    <div class=\"colab-df-buttons\">\n",
              "\n",
              "  <div class=\"colab-df-container\">\n",
              "    <button class=\"colab-df-convert\" onclick=\"convertToInteractive('df-c870f787-4770-45f7-831d-1ecf3f4fff08')\"\n",
              "            title=\"Convert this dataframe to an interactive table.\"\n",
              "            style=\"display:none;\">\n",
              "\n",
              "  <svg xmlns=\"http://www.w3.org/2000/svg\" height=\"24px\" viewBox=\"0 -960 960 960\">\n",
              "    <path d=\"M120-120v-720h720v720H120Zm60-500h600v-160H180v160Zm220 220h160v-160H400v160Zm0 220h160v-160H400v160ZM180-400h160v-160H180v160Zm440 0h160v-160H620v160ZM180-180h160v-160H180v160Zm440 0h160v-160H620v160Z\"/>\n",
              "  </svg>\n",
              "    </button>\n",
              "\n",
              "  <style>\n",
              "    .colab-df-container {\n",
              "      display:flex;\n",
              "      gap: 12px;\n",
              "    }\n",
              "\n",
              "    .colab-df-convert {\n",
              "      background-color: #E8F0FE;\n",
              "      border: none;\n",
              "      border-radius: 50%;\n",
              "      cursor: pointer;\n",
              "      display: none;\n",
              "      fill: #1967D2;\n",
              "      height: 32px;\n",
              "      padding: 0 0 0 0;\n",
              "      width: 32px;\n",
              "    }\n",
              "\n",
              "    .colab-df-convert:hover {\n",
              "      background-color: #E2EBFA;\n",
              "      box-shadow: 0px 1px 2px rgba(60, 64, 67, 0.3), 0px 1px 3px 1px rgba(60, 64, 67, 0.15);\n",
              "      fill: #174EA6;\n",
              "    }\n",
              "\n",
              "    .colab-df-buttons div {\n",
              "      margin-bottom: 4px;\n",
              "    }\n",
              "\n",
              "    [theme=dark] .colab-df-convert {\n",
              "      background-color: #3B4455;\n",
              "      fill: #D2E3FC;\n",
              "    }\n",
              "\n",
              "    [theme=dark] .colab-df-convert:hover {\n",
              "      background-color: #434B5C;\n",
              "      box-shadow: 0px 1px 3px 1px rgba(0, 0, 0, 0.15);\n",
              "      filter: drop-shadow(0px 1px 2px rgba(0, 0, 0, 0.3));\n",
              "      fill: #FFFFFF;\n",
              "    }\n",
              "  </style>\n",
              "\n",
              "    <script>\n",
              "      const buttonEl =\n",
              "        document.querySelector('#df-c870f787-4770-45f7-831d-1ecf3f4fff08 button.colab-df-convert');\n",
              "      buttonEl.style.display =\n",
              "        google.colab.kernel.accessAllowed ? 'block' : 'none';\n",
              "\n",
              "      async function convertToInteractive(key) {\n",
              "        const element = document.querySelector('#df-c870f787-4770-45f7-831d-1ecf3f4fff08');\n",
              "        const dataTable =\n",
              "          await google.colab.kernel.invokeFunction('convertToInteractive',\n",
              "                                                    [key], {});\n",
              "        if (!dataTable) return;\n",
              "\n",
              "        const docLinkHtml = 'Like what you see? Visit the ' +\n",
              "          '<a target=\"_blank\" href=https://colab.research.google.com/notebooks/data_table.ipynb>data table notebook</a>'\n",
              "          + ' to learn more about interactive tables.';\n",
              "        element.innerHTML = '';\n",
              "        dataTable['output_type'] = 'display_data';\n",
              "        await google.colab.output.renderOutput(dataTable, element);\n",
              "        const docLink = document.createElement('div');\n",
              "        docLink.innerHTML = docLinkHtml;\n",
              "        element.appendChild(docLink);\n",
              "      }\n",
              "    </script>\n",
              "  </div>\n",
              "\n",
              "\n",
              "<div id=\"df-97be8860-64f9-47a5-88bb-23e46dcecf8f\">\n",
              "  <button class=\"colab-df-quickchart\" onclick=\"quickchart('df-97be8860-64f9-47a5-88bb-23e46dcecf8f')\"\n",
              "            title=\"Suggest charts\"\n",
              "            style=\"display:none;\">\n",
              "\n",
              "<svg xmlns=\"http://www.w3.org/2000/svg\" height=\"24px\"viewBox=\"0 0 24 24\"\n",
              "     width=\"24px\">\n",
              "    <g>\n",
              "        <path d=\"M19 3H5c-1.1 0-2 .9-2 2v14c0 1.1.9 2 2 2h14c1.1 0 2-.9 2-2V5c0-1.1-.9-2-2-2zM9 17H7v-7h2v7zm4 0h-2V7h2v10zm4 0h-2v-4h2v4z\"/>\n",
              "    </g>\n",
              "</svg>\n",
              "  </button>\n",
              "\n",
              "<style>\n",
              "  .colab-df-quickchart {\n",
              "      --bg-color: #E8F0FE;\n",
              "      --fill-color: #1967D2;\n",
              "      --hover-bg-color: #E2EBFA;\n",
              "      --hover-fill-color: #174EA6;\n",
              "      --disabled-fill-color: #AAA;\n",
              "      --disabled-bg-color: #DDD;\n",
              "  }\n",
              "\n",
              "  [theme=dark] .colab-df-quickchart {\n",
              "      --bg-color: #3B4455;\n",
              "      --fill-color: #D2E3FC;\n",
              "      --hover-bg-color: #434B5C;\n",
              "      --hover-fill-color: #FFFFFF;\n",
              "      --disabled-bg-color: #3B4455;\n",
              "      --disabled-fill-color: #666;\n",
              "  }\n",
              "\n",
              "  .colab-df-quickchart {\n",
              "    background-color: var(--bg-color);\n",
              "    border: none;\n",
              "    border-radius: 50%;\n",
              "    cursor: pointer;\n",
              "    display: none;\n",
              "    fill: var(--fill-color);\n",
              "    height: 32px;\n",
              "    padding: 0;\n",
              "    width: 32px;\n",
              "  }\n",
              "\n",
              "  .colab-df-quickchart:hover {\n",
              "    background-color: var(--hover-bg-color);\n",
              "    box-shadow: 0 1px 2px rgba(60, 64, 67, 0.3), 0 1px 3px 1px rgba(60, 64, 67, 0.15);\n",
              "    fill: var(--button-hover-fill-color);\n",
              "  }\n",
              "\n",
              "  .colab-df-quickchart-complete:disabled,\n",
              "  .colab-df-quickchart-complete:disabled:hover {\n",
              "    background-color: var(--disabled-bg-color);\n",
              "    fill: var(--disabled-fill-color);\n",
              "    box-shadow: none;\n",
              "  }\n",
              "\n",
              "  .colab-df-spinner {\n",
              "    border: 2px solid var(--fill-color);\n",
              "    border-color: transparent;\n",
              "    border-bottom-color: var(--fill-color);\n",
              "    animation:\n",
              "      spin 1s steps(1) infinite;\n",
              "  }\n",
              "\n",
              "  @keyframes spin {\n",
              "    0% {\n",
              "      border-color: transparent;\n",
              "      border-bottom-color: var(--fill-color);\n",
              "      border-left-color: var(--fill-color);\n",
              "    }\n",
              "    20% {\n",
              "      border-color: transparent;\n",
              "      border-left-color: var(--fill-color);\n",
              "      border-top-color: var(--fill-color);\n",
              "    }\n",
              "    30% {\n",
              "      border-color: transparent;\n",
              "      border-left-color: var(--fill-color);\n",
              "      border-top-color: var(--fill-color);\n",
              "      border-right-color: var(--fill-color);\n",
              "    }\n",
              "    40% {\n",
              "      border-color: transparent;\n",
              "      border-right-color: var(--fill-color);\n",
              "      border-top-color: var(--fill-color);\n",
              "    }\n",
              "    60% {\n",
              "      border-color: transparent;\n",
              "      border-right-color: var(--fill-color);\n",
              "    }\n",
              "    80% {\n",
              "      border-color: transparent;\n",
              "      border-right-color: var(--fill-color);\n",
              "      border-bottom-color: var(--fill-color);\n",
              "    }\n",
              "    90% {\n",
              "      border-color: transparent;\n",
              "      border-bottom-color: var(--fill-color);\n",
              "    }\n",
              "  }\n",
              "</style>\n",
              "\n",
              "  <script>\n",
              "    async function quickchart(key) {\n",
              "      const quickchartButtonEl =\n",
              "        document.querySelector('#' + key + ' button');\n",
              "      quickchartButtonEl.disabled = true;  // To prevent multiple clicks.\n",
              "      quickchartButtonEl.classList.add('colab-df-spinner');\n",
              "      try {\n",
              "        const charts = await google.colab.kernel.invokeFunction(\n",
              "            'suggestCharts', [key], {});\n",
              "      } catch (error) {\n",
              "        console.error('Error during call to suggestCharts:', error);\n",
              "      }\n",
              "      quickchartButtonEl.classList.remove('colab-df-spinner');\n",
              "      quickchartButtonEl.classList.add('colab-df-quickchart-complete');\n",
              "    }\n",
              "    (() => {\n",
              "      let quickchartButtonEl =\n",
              "        document.querySelector('#df-97be8860-64f9-47a5-88bb-23e46dcecf8f button');\n",
              "      quickchartButtonEl.style.display =\n",
              "        google.colab.kernel.accessAllowed ? 'block' : 'none';\n",
              "    })();\n",
              "  </script>\n",
              "</div>\n",
              "\n",
              "    </div>\n",
              "  </div>\n"
            ],
            "application/vnd.google.colaboratory.intrinsic+json": {
              "type": "dataframe",
              "variable_name": "df_split"
            }
          },
          "metadata": {},
          "execution_count": 5
        }
      ]
    },
    {
      "cell_type": "code",
      "source": [
        "print(df_split)"
      ],
      "metadata": {
        "id": "3SWW8twEzP9n",
        "colab": {
          "base_uri": "https://localhost:8080/"
        },
        "outputId": "a73a0ef7-cf01-4968-f54a-941b66591d4d"
      },
      "execution_count": null,
      "outputs": [
        {
          "output_type": "stream",
          "name": "stdout",
          "text": [
            "     A_1_1 A_1_2 A_1_3 A_1_4 A_1_5 A_1_6 A_1_7 A_1_8 A_1_9 A_1_10  ...  \\\n",
            "0        1     1     0     1     1     1     0     0     1      0  ...   \n",
            "1        0     0     0     1     1     0     1     1     0      1  ...   \n",
            "2        1     0     0     1     0     1     0     1     0      0  ...   \n",
            "3        1     1     0     1     1     0     0     0     1      0  ...   \n",
            "4        0     0     0     1     1     1     1     0     1      1  ...   \n",
            "...    ...   ...   ...   ...   ...   ...   ...   ...   ...    ...  ...   \n",
            "9991     0     1     1     0     1     1     1     1     1      0  ...   \n",
            "9992     1     0     0     0     0     0     1     0     0      1  ...   \n",
            "9993     1     0     1     0     0     0     0     1     1      0  ...   \n",
            "9994     1     0     1     0     0     1     1     0     1      1  ...   \n",
            "9995     1     0     1     0     1     0     0     1     0      1  ...   \n",
            "\n",
            "     A_Pred_23 A_Pred_24 A_Pred_25 A_Pred_26 A_Pred_27 A_Pred_28 A_Pred_29  \\\n",
            "0            1         0         0         1         0         1         1   \n",
            "1            0         1         0         1         0         0         0   \n",
            "2            0         0         0         1         0         0         0   \n",
            "3            1         1         0         0         1         0         1   \n",
            "4            0         1         0         1         0         1         1   \n",
            "...        ...       ...       ...       ...       ...       ...       ...   \n",
            "9991         0         1         1         0         0         0         0   \n",
            "9992         1         0         1         1         1         0         1   \n",
            "9993         1         1         1         1         0         0         1   \n",
            "9994         1         0         0         1         0         1         0   \n",
            "9995         1         0         0         0         0         0         1   \n",
            "\n",
            "     A_Pred_30 A_Pred_31 A_Pred_32  \n",
            "0            1         1         0  \n",
            "1            1         1         0  \n",
            "2            0         1         1  \n",
            "3            1         0         0  \n",
            "4            0         0         0  \n",
            "...        ...       ...       ...  \n",
            "9991         1         1         1  \n",
            "9992         1         0         0  \n",
            "9993         1         0         0  \n",
            "9994         0         1         1  \n",
            "9995         0         1         0  \n",
            "\n",
            "[9996 rows x 160 columns]\n"
          ]
        }
      ]
    },
    {
      "cell_type": "code",
      "source": [
        "# seperate out inputs and outputs, split into train and test groups\n",
        "test_count = 100\n",
        "X_train = df_split.iloc[:-test_count, :128]\n",
        "y_train = df_split.iloc[test_count:, 128:]\n",
        "X_test = df_split.iloc[:-test_count, :128]\n",
        "y_test = df_split.iloc[test_count:, 128:]"
      ],
      "metadata": {
        "id": "81rya0BbG8Y6"
      },
      "execution_count": null,
      "outputs": []
    },
    {
      "cell_type": "code",
      "source": [
        "import torch\n",
        "import torch.nn as nn\n",
        "\n",
        "model = nn.Sequential(\n",
        "    nn.Linear(in_features=128, out_features=1024),\n",
        "    nn.Linear(in_features=1024, out_features=32),\n",
        "    nn.Sigmoid()\n",
        ")\n",
        "\n",
        "print(model)"
      ],
      "metadata": {
        "id": "3CuaQGW9_xKG",
        "colab": {
          "base_uri": "https://localhost:8080/"
        },
        "outputId": "2a6a0de9-44d9-44f1-ef3f-ead933e6febf"
      },
      "execution_count": null,
      "outputs": [
        {
          "output_type": "stream",
          "name": "stdout",
          "text": [
            "Sequential(\n",
            "  (0): Linear(in_features=128, out_features=1024, bias=True)\n",
            "  (1): Linear(in_features=1024, out_features=32, bias=True)\n",
            "  (2): Sigmoid()\n",
            ")\n"
          ]
        }
      ]
    },
    {
      "cell_type": "code",
      "source": [
        "import torch.optim as optim\n",
        "# optimizer = optim.Adam(model.parameters(), lr=0.01) # try this out see if its different\n",
        "# loss_fn = nn.BCEWithLogitsLoss()\n",
        "\n",
        "def train_model(model, X, y, iterations, loss_fn, optimizer):\n",
        "    # keep track of summary statistics\n",
        "    train_loss_list = []\n",
        "    correct_predictions = 0\n",
        "\n",
        "    # turn inputs and targets into tensors\n",
        "    in_batch = torch.from_numpy(X.values.astype(np.float32))\n",
        "    target_batch = torch.from_numpy(y.values.astype(np.float32))\n",
        "\n",
        "    for iteration in range(iterations):\n",
        "        #loss = loss_fn(predicted, y)\n",
        "            # correct_predictions += (predicted.argmax(dim=1) == labels).sum().item()\n",
        "\n",
        "        # use the model to make a guess\n",
        "        out_batch = model(in_batch)\n",
        "\n",
        "        # find the loss on the guess\n",
        "        loss = loss_fn(out_batch, target_batch)\n",
        "\n",
        "        # Backward pass (back propagation)\n",
        "        model.zero_grad()\n",
        "        loss.backward()\n",
        "        optimizer.step()\n",
        "\n",
        "        train_loss_list.append(loss.item())\n",
        "    return train_loss_list\n",
        "    # return np.mean(train_loss), correct_predictions / len(train_loader.dataset)"
      ],
      "metadata": {
        "id": "rvvBdo7dgqCg"
      },
      "execution_count": null,
      "outputs": []
    },
    {
      "cell_type": "markdown",
      "source": [
        "BCE Loss"
      ],
      "metadata": {
        "id": "_3uJQiKm5m4Y"
      }
    },
    {
      "cell_type": "code",
      "source": [
        "optimizer = optim.SGD(model.parameters(), lr=0.01)\n",
        "loss_fn = nn.BCELoss()\n",
        "\n",
        "# bce loss printing\n",
        "train_loss_list_1_a = train_model(model, X_train, y_train, 100, loss_fn, optimizer)\n",
        "print(\"The training loss should be going down: \", train_loss_list_1_a)\n",
        "\n",
        "plt.title(\"BCE Loss using SGD\")\n",
        "plt.xlabel(\"Iteration\")\n",
        "plt.ylabel(\"Loss\")\n",
        "plt.plot(range(len(train_loss_list_1_a)), train_loss_list_1_a)\n",
        "plt.show()"
      ],
      "metadata": {
        "colab": {
          "base_uri": "https://localhost:8080/",
          "height": 510
        },
        "id": "v3O-dbYVin22",
        "outputId": "dc02eedf-bae6-42ee-e57c-5efd1821fcdd"
      },
      "execution_count": null,
      "outputs": [
        {
          "output_type": "stream",
          "name": "stdout",
          "text": [
            "The training loss should be going down:  [0.7023757100105286, 0.702286422252655, 0.7021986842155457, 0.7021122574806213, 0.7020272016525269, 0.7019436359405518, 0.7018613219261169, 0.701780378818512, 0.7017008066177368, 0.7016224265098572, 0.7015452980995178, 0.7014694809913635, 0.7013948559761047, 0.7013213634490967, 0.7012491822242737, 0.7011780738830566, 0.7011080980300903, 0.7010393738746643, 0.7009716629981995, 0.7009050846099854, 0.7008395791053772, 0.7007750272750854, 0.7007115483283997, 0.7006491422653198, 0.7005877494812012, 0.7005273103713989, 0.7004679441452026, 0.7004093527793884, 0.7003517746925354, 0.7002951502799988, 0.700239360332489, 0.7001845836639404, 0.7001305818557739, 0.700077474117279, 0.7000252604484558, 0.6999738812446594, 0.6999232769012451, 0.6998735666275024, 0.6998245120048523, 0.6997763514518738, 0.6997289061546326, 0.6996822357177734, 0.6996362805366516, 0.6995911002159119, 0.6995466947555542, 0.6995028853416443, 0.6994599103927612, 0.6994174718856812, 0.6993756890296936, 0.6993346810340881, 0.6992943286895752, 0.69925457239151, 0.6992154717445374, 0.6991770267486572, 0.6991391181945801, 0.6991018652915955, 0.6990650296211243, 0.6990289688110352, 0.6989935040473938, 0.6989585161209106, 0.6989240646362305, 0.698890209197998, 0.6988568902015686, 0.6988241076469421, 0.6987917423248291, 0.6987600326538086, 0.6987286806106567, 0.6986979246139526, 0.6986677050590515, 0.6986377835273743, 0.6986085176467896, 0.6985796093940735, 0.6985511183738708, 0.6985231637954712, 0.6984955072402954, 0.6984684467315674, 0.698441743850708, 0.6984154582023621, 0.6983895897865295, 0.6983641386032104, 0.69833904504776, 0.698314368724823, 0.6982901692390442, 0.6982661485671997, 0.6982426047325134, 0.6982194185256958, 0.6981967091560364, 0.6981741786003113, 0.6981520652770996, 0.6981303691864014, 0.6981089115142822, 0.6980878114700317, 0.6980670094490051, 0.6980465650558472, 0.6980264782905579, 0.6980066299438477, 0.6979870796203613, 0.6979678273200989, 0.6979489326477051, 0.6979302763938904]\n"
          ]
        },
        {
          "output_type": "display_data",
          "data": {
            "text/plain": [
              "<Figure size 640x480 with 1 Axes>"
            ],
            "image/png": "[encoded data removed]"
          },
          "metadata": {}
        }
      ]
    },
    {
      "cell_type": "code",
      "source": [
        "# model testing\n",
        "model.eval()\n",
        "with torch.no_grad():\n",
        "    X_test_tensor = torch.from_numpy(X_test.values.astype(np.float32))\n",
        "    outputs = torch.round(model(X_test_tensor))\n",
        "    y_test_tensor = torch.from_numpy(y_test.values.astype(np.float32))\n",
        "\n",
        "    # find bceloss\n",
        "    loss = loss_fn(outputs, y_test_tensor)\n",
        "    print(f\"This is the loss using {loss_fn}: {loss}\")\n",
        "\n",
        "    # find bitwise accuracy\n",
        "    print(outputs)\n",
        "    print(y_test_tensor)\n",
        "\n",
        "    matching_entry_count = torch.sum(outputs == y_test_tensor)\n",
        "    total_entry_count = torch.numel(outputs)\n",
        "    accuracy = matching_entry_count / total_entry_count\n",
        "    print(matching_entry_count, total_entry_count, accuracy)\n",
        "    print(f\"This is the accuracy: {accuracy}\")\n"
      ],
      "metadata": {
        "colab": {
          "base_uri": "https://localhost:8080/"
        },
        "id": "n5-RMBni--uA",
        "outputId": "f82f6ae2-d256-493b-e360-26c4dc9b26a4"
      },
      "execution_count": null,
      "outputs": [
        {
          "output_type": "stream",
          "name": "stdout",
          "text": [
            "This is the loss using BCELoss(): 50.0382080078125\n",
            "tensor([[1., 1., 1.,  ..., 0., 0., 1.],\n",
            "        [1., 1., 1.,  ..., 1., 0., 0.],\n",
            "        [1., 0., 0.,  ..., 1., 0., 1.],\n",
            "        ...,\n",
            "        [1., 1., 1.,  ..., 1., 0., 1.],\n",
            "        [0., 1., 0.,  ..., 1., 0., 0.],\n",
            "        [0., 0., 1.,  ..., 0., 0., 1.]])\n",
            "tensor([[1., 1., 1.,  ..., 0., 0., 1.],\n",
            "        [0., 1., 1.,  ..., 1., 0., 1.],\n",
            "        [0., 0., 0.,  ..., 0., 1., 0.],\n",
            "        ...,\n",
            "        [0., 1., 1.,  ..., 1., 0., 0.],\n",
            "        [1., 0., 1.,  ..., 0., 1., 1.],\n",
            "        [0., 1., 1.,  ..., 0., 1., 0.]])\n",
            "tensor(158215) 316672 tensor(0.4996)\n",
            "This is the accuracy: 0.49961790442466736\n"
          ]
        }
      ]
    },
    {
      "cell_type": "code",
      "source": [
        "# using ADAM\n",
        "optimizer = optim.Adam(model.parameters(), lr=0.01)\n",
        "train_loss_list_1_b = train_model(model, X_train, y_train, 100, loss_fn, optimizer)\n",
        "print(\"The training loss should be going down: \", train_loss_list_1_b)\n",
        "\n",
        "plt.title(\"BCE Loss using ADAM\")\n",
        "plt.xlabel(\"Iteration\")\n",
        "plt.ylabel(\"Loss\")\n",
        "plt.plot(range(len(train_loss_list_1_b)), train_loss_list_1_b)\n",
        "plt.show()"
      ],
      "metadata": {
        "colab": {
          "base_uri": "https://localhost:8080/",
          "height": 510
        },
        "id": "aCotEazD1UDk",
        "outputId": "f33c1d4b-5013-45ec-9796-73c671528112"
      },
      "execution_count": null,
      "outputs": [
        {
          "output_type": "stream",
          "name": "stdout",
          "text": [
            "The training loss should be going down:  [0.6979119181632996, 1.7454941272735596, 1.9789458513259888, 0.8647579550743103, 1.464546799659729, 1.2593213319778442, 0.7647998929023743, 0.7921255826950073, 0.902762234210968, 0.7648858428001404, 0.7844659090042114, 0.9775642156600952, 0.8263794779777527, 0.7215689420700073, 0.8699251413345337, 0.8100833892822266, 0.6970160603523254, 0.7814782857894897, 0.812691867351532, 0.7299641370773315, 0.7059789896011353, 0.7419481873512268, 0.7394832372665405, 0.70640629529953, 0.697166383266449, 0.7117348313331604, 0.7195572257041931, 0.7110198736190796, 0.698660135269165, 0.6941587328910828, 0.6967352032661438, 0.6995722055435181, 0.698928713798523, 0.6958435773849487, 0.6928111910820007, 0.6911318898200989, 0.6906861066818237, 0.6907663941383362, 0.6907811164855957, 0.6905395984649658, 0.6901798844337463, 0.6899067759513855, 0.6897635459899902, 0.689614474773407, 0.6893087029457092, 0.6888455748558044, 0.6883891224861145, 0.6881362795829773, 0.6881649494171143, 0.6883816123008728, 0.6885920763015747, 0.6886312961578369, 0.6884524822235107, 0.6881237626075745, 0.6877614855766296, 0.6874669790267944, 0.6873000264167786, 0.6872751712799072, 0.6873617172241211, 0.6874902844429016, 0.6875784397125244, 0.6875733137130737, 0.6874772310256958, 0.6873366832733154, 0.6872057318687439, 0.6871156692504883, 0.6870700120925903, 0.6870577335357666, 0.6870653629302979, 0.6870793700218201, 0.6870868802070618, 0.687078595161438, 0.6870547533035278, 0.6870241165161133, 0.6869966983795166, 0.6869767308235168, 0.6869623064994812, 0.686949610710144, 0.686937153339386, 0.6869249939918518, 0.6869134306907654, 0.6869025826454163, 0.6868942379951477, 0.6868900060653687, 0.6868895292282104, 0.6868897676467896, 0.686887264251709, 0.6868806481361389, 0.6868709325790405, 0.6868608593940735, 0.6868518590927124, 0.6868451237678528, 0.6868413686752319, 0.6868405938148499, 0.6868417859077454, 0.6868427991867065, 0.6868419647216797, 0.6868388056755066, 0.6868345141410828, 0.6868298053741455]\n"
          ]
        },
        {
          "output_type": "display_data",
          "data": {
            "text/plain": [
              "<Figure size 640x480 with 1 Axes>"
            ],
            "image/png": "[encoded data removed]"
          },
          "metadata": {}
        }
      ]
    },
    {
      "cell_type": "code",
      "source": [
        "# model testing\n",
        "model.eval()\n",
        "with torch.no_grad():\n",
        "    X_test_tensor = torch.from_numpy(X_test.values.astype(np.float32))\n",
        "    outputs = torch.round(model(X_test_tensor))\n",
        "    y_test_tensor = torch.from_numpy(y_test.values.astype(np.float32))\n",
        "\n",
        "    # find bceloss\n",
        "    loss = loss_fn(outputs, y_test_tensor)\n",
        "    print(f\"This is the loss using {loss_fn}: {loss}\")\n",
        "\n",
        "    # find bitwise accuracy\n",
        "    print(outputs)\n",
        "    print(y_test_tensor)\n",
        "\n",
        "    matching_entry_count = torch.sum(outputs == y_test_tensor)\n",
        "    total_entry_count = torch.numel(outputs)\n",
        "    accuracy = matching_entry_count / total_entry_count\n",
        "    print(matching_entry_count, total_entry_count, accuracy)\n",
        "    print(f\"This is the accuracy: {accuracy}\")"
      ],
      "metadata": {
        "colab": {
          "base_uri": "https://localhost:8080/"
        },
        "id": "r9Y3yP726haL",
        "outputId": "f4921070-6ddd-4973-cfdd-bd67a0ba5cac"
      },
      "execution_count": null,
      "outputs": [
        {
          "output_type": "stream",
          "name": "stdout",
          "text": [
            "This is the loss using BCELoss(): 45.52186584472656\n",
            "tensor([[1., 0., 0.,  ..., 0., 1., 1.],\n",
            "        [0., 1., 0.,  ..., 0., 1., 1.],\n",
            "        [0., 1., 0.,  ..., 1., 1., 0.],\n",
            "        ...,\n",
            "        [0., 1., 1.,  ..., 0., 0., 1.],\n",
            "        [0., 1., 1.,  ..., 1., 0., 1.],\n",
            "        [1., 1., 1.,  ..., 1., 1., 1.]])\n",
            "tensor([[1., 1., 1.,  ..., 0., 0., 1.],\n",
            "        [0., 1., 1.,  ..., 1., 0., 1.],\n",
            "        [0., 0., 0.,  ..., 0., 1., 0.],\n",
            "        ...,\n",
            "        [0., 1., 1.,  ..., 1., 0., 0.],\n",
            "        [1., 0., 1.,  ..., 0., 1., 1.],\n",
            "        [0., 1., 1.,  ..., 0., 1., 0.]])\n",
            "tensor(172517) 316672 tensor(0.5448)\n",
            "This is the accuracy: 0.5447813272476196\n"
          ]
        }
      ]
    },
    {
      "cell_type": "markdown",
      "source": [
        "L1 Loss"
      ],
      "metadata": {
        "id": "-Df1Yj2uylRN"
      }
    },
    {
      "cell_type": "code",
      "source": [
        "loss_fn = nn.L1Loss()\n",
        "\n",
        "# using SGD\n",
        "optimizer = optim.SGD(model.parameters(), lr=0.01)\n",
        "train_loss_list_2_a = train_model(model, X_train, y_train, 100, loss_fn, optimizer)\n",
        "print(\"The training loss should be going down: \", train_loss_list_2_a)\n",
        "\n",
        "plt.title(\"L1 Loss using SGD\")\n",
        "plt.xlabel(\"Iteration\")\n",
        "plt.ylabel(\"Loss\")\n",
        "plt.plot(range(len(train_loss_list_2_a)), train_loss_list_2_a)\n",
        "plt.show()"
      ],
      "metadata": {
        "id": "Ksd7tY0R00rd",
        "colab": {
          "base_uri": "https://localhost:8080/",
          "height": 510
        },
        "outputId": "9c2d7ea0-c9bf-4ce1-dc2c-ecc842ab22f2"
      },
      "execution_count": null,
      "outputs": [
        {
          "output_type": "stream",
          "name": "stdout",
          "text": [
            "The training loss should be going down:  [0.49378982186317444, 0.4937896132469177, 0.4937893748283386, 0.49378910660743713, 0.4937889277935028, 0.4937886595726013, 0.4937884211540222, 0.4937882423400879, 0.4937879741191864, 0.4937877357006073, 0.49378758668899536, 0.49378734827041626, 0.49378708004951477, 0.49378690123558044, 0.49378666281700134, 0.49378645420074463, 0.49378615617752075, 0.49378591775894165, 0.4937857687473297, 0.4937855303287506, 0.4937852621078491, 0.4937851130962372, 0.4937848746776581, 0.493784636259079, 0.4937843680381775, 0.49378418922424316, 0.49378395080566406, 0.4937836825847626, 0.49378353357315063, 0.49378323554992676, 0.49378305673599243, 0.4937828481197357, 0.493782639503479, 0.4937823712825775, 0.4937821626663208, 0.4937819540500641, 0.49378177523612976, 0.4937814772129059, 0.4937812089920044, 0.49378103017807007, 0.49378082156181335, 0.49378058314323425, 0.49378034472465515, 0.49378013610839844, 0.49377989768981934, 0.4937796890735626, 0.4937794506549835, 0.4937792420387268, 0.4937790036201477, 0.493778795003891, 0.4937785565853119, 0.4937783479690552, 0.4937781095504761, 0.493777871131897, 0.49377766251564026, 0.49377742409706116, 0.49377721548080444, 0.49377697706222534, 0.49377673864364624, 0.4937765300273895, 0.4937762916088104, 0.4937760531902313, 0.4937758445739746, 0.4937756359577179, 0.4937753975391388, 0.4937751591205597, 0.4937749207019806, 0.49377477169036865, 0.4937744736671448, 0.49377432465553284, 0.49377405643463135, 0.493773877620697, 0.4937736392021179, 0.49377337098121643, 0.49377313256263733, 0.4937729239463806, 0.4937726855278015, 0.4937724471092224, 0.4937722980976105, 0.49377205967903137, 0.4937717914581299, 0.4937715530395508, 0.49377134442329407, 0.49377110600471497, 0.49377089738845825, 0.49377065896987915, 0.4937704801559448, 0.49377021193504333, 0.493770033121109, 0.4937697649002075, 0.4937695860862732, 0.4937693774700165, 0.4937690794467926, 0.4937689006328583, 0.4937686324119568, 0.49376845359802246, 0.49376818537712097, 0.49376800656318665, 0.49376773834228516, 0.49376749992370605]\n"
          ]
        },
        {
          "output_type": "display_data",
          "data": {
            "text/plain": [
              "<Figure size 640x480 with 1 Axes>"
            ],
            "image/png": "[encoded data removed]"
          },
          "metadata": {}
        }
      ]
    },
    {
      "cell_type": "code",
      "source": [
        "# model testing\n",
        "model.eval()\n",
        "with torch.no_grad():\n",
        "    X_test_tensor = torch.from_numpy(X_test.values.astype(np.float32))\n",
        "    outputs = torch.round(model(X_test_tensor))\n",
        "    y_test_tensor = torch.from_numpy(y_test.values.astype(np.float32))\n",
        "\n",
        "    # find bceloss\n",
        "    loss = loss_fn(outputs, y_test_tensor)\n",
        "    print(f\"This is the loss using {loss_fn}: {loss}\")\n",
        "\n",
        "    # find bitwise accuracy\n",
        "    print(outputs)\n",
        "    print(y_test_tensor)\n",
        "\n",
        "    matching_entry_count = torch.sum(outputs == y_test_tensor)\n",
        "    total_entry_count = torch.numel(outputs)\n",
        "    accuracy = matching_entry_count / total_entry_count\n",
        "    print(matching_entry_count, total_entry_count, accuracy)\n",
        "    print(f\"This is the accuracy: {accuracy}\")"
      ],
      "metadata": {
        "colab": {
          "base_uri": "https://localhost:8080/"
        },
        "id": "Xo1MbbmC7-Sj",
        "outputId": "2d4d4304-76fb-4902-d3e5-b85cd0636cc0"
      },
      "execution_count": null,
      "outputs": [
        {
          "output_type": "stream",
          "name": "stdout",
          "text": [
            "This is the loss using L1Loss(): 0.45525023341178894\n",
            "tensor([[1., 0., 0.,  ..., 0., 1., 1.],\n",
            "        [0., 1., 0.,  ..., 0., 1., 1.],\n",
            "        [0., 1., 0.,  ..., 1., 1., 0.],\n",
            "        ...,\n",
            "        [0., 1., 1.,  ..., 0., 0., 1.],\n",
            "        [0., 1., 1.,  ..., 1., 0., 1.],\n",
            "        [1., 1., 1.,  ..., 1., 1., 1.]])\n",
            "tensor([[1., 1., 1.,  ..., 0., 0., 1.],\n",
            "        [0., 1., 1.,  ..., 1., 0., 1.],\n",
            "        [0., 0., 0.,  ..., 0., 1., 0.],\n",
            "        ...,\n",
            "        [0., 1., 1.,  ..., 1., 0., 0.],\n",
            "        [1., 0., 1.,  ..., 0., 1., 1.],\n",
            "        [0., 1., 1.,  ..., 0., 1., 0.]])\n",
            "tensor(172507) 316672 tensor(0.5447)\n",
            "This is the accuracy: 0.5447497963905334\n"
          ]
        }
      ]
    },
    {
      "cell_type": "code",
      "source": [
        "# using ADAM\n",
        "optimizer = optim.Adam(model.parameters(), lr=0.01)\n",
        "train_loss_list_2_b = train_model(model, X_train, y_train, 100, loss_fn, optimizer)\n",
        "print(\"The training loss should be going down: \", train_loss_list_2_b)\n",
        "\n",
        "plt.title(\"L1 Loss using ADAM\")\n",
        "plt.xlabel(\"Iteration\")\n",
        "plt.ylabel(\"Loss\")\n",
        "plt.plot(range(len(train_loss_list_2_b)), train_loss_list_2_b)\n",
        "plt.show()"
      ],
      "metadata": {
        "colab": {
          "base_uri": "https://localhost:8080/",
          "height": 510
        },
        "id": "ZL-CtSi976AV",
        "outputId": "d0d801d3-247a-4931-a19a-48a4e1a64b25"
      },
      "execution_count": null,
      "outputs": [
        {
          "output_type": "stream",
          "name": "stdout",
          "text": [
            "The training loss should be going down:  [0.4937673509120941, 0.4876415431499481, 0.4880804419517517, 0.47895416617393494, 0.4749692678451538, 0.47274062037467957, 0.469555139541626, 0.46766534447669983, 0.46493709087371826, 0.46275824308395386, 0.46050286293029785, 0.458266019821167, 0.45705652236938477, 0.45494934916496277, 0.45281168818473816, 0.4515219032764435, 0.45024511218070984, 0.4488735496997833, 0.4474787712097168, 0.4464591443538666, 0.4450663924217224, 0.44377976655960083, 0.4430173337459564, 0.4422551691532135, 0.44113653898239136, 0.44100284576416016, 0.4403187334537506, 0.43875011801719666, 0.4379393458366394, 0.43793153762817383, 0.43626078963279724, 0.4356555640697479, 0.4352335035800934, 0.4342810809612274, 0.43400073051452637, 0.4332118034362793, 0.4336393475532532, 0.4339294731616974, 0.4332709014415741, 0.43187084794044495, 0.43183383345603943, 0.4312646985054016, 0.4310905337333679, 0.43072500824928284, 0.4302396774291992, 0.42978978157043457, 0.42956873774528503, 0.4290529787540436, 0.4288886785507202, 0.4276997745037079, 0.42790189385414124, 0.4276350140571594, 0.4274040758609772, 0.42747029662132263, 0.426527202129364, 0.42636674642562866, 0.42555487155914307, 0.42598631978034973, 0.4256671667098999, 0.42583775520324707, 0.42644640803337097, 0.4250139892101288, 0.4246257245540619, 0.42581361532211304, 0.4251912832260132, 0.423816978931427, 0.42445704340934753, 0.42349106073379517, 0.4242752194404602, 0.4237520396709442, 0.423713743686676, 0.4238342046737671, 0.4239863157272339, 0.42244163155555725, 0.4224194884300232, 0.4227747321128845, 0.4228036403656006, 0.42258161306381226, 0.42224761843681335, 0.421484112739563, 0.4220859706401825, 0.42173996567726135, 0.42098256945610046, 0.4220896363258362, 0.4211922287940979, 0.42290642857551575, 0.42197149991989136, 0.4204917252063751, 0.4217347800731659, 0.42189157009124756, 0.41983455419540405, 0.4213132858276367, 0.4208838939666748, 0.4203598201274872, 0.4209255278110504, 0.41992315649986267, 0.420671671628952, 0.42031562328338623, 0.4198642373085022, 0.4193350672721863]\n"
          ]
        },
        {
          "output_type": "display_data",
          "data": {
            "text/plain": [
              "<Figure size 640x480 with 1 Axes>"
            ],
            "image/png": "[encoded data removed]"
          },
          "metadata": {}
        }
      ]
    },
    {
      "cell_type": "code",
      "source": [
        "# model testing\n",
        "model.eval()\n",
        "with torch.no_grad():\n",
        "    X_test_tensor = torch.from_numpy(X_test.values.astype(np.float32))\n",
        "    outputs = torch.round(model(X_test_tensor))\n",
        "    y_test_tensor = torch.from_numpy(y_test.values.astype(np.float32))\n",
        "\n",
        "    # find bceloss\n",
        "    loss = loss_fn(outputs, y_test_tensor)\n",
        "    print(f\"This is the loss using {loss_fn}: {loss}\")\n",
        "\n",
        "    # find bitwise accuracy\n",
        "    print(outputs)\n",
        "    print(y_test_tensor)\n",
        "\n",
        "    matching_entry_count = torch.sum(outputs == y_test_tensor)\n",
        "    total_entry_count = torch.numel(outputs)\n",
        "    accuracy = matching_entry_count / total_entry_count\n",
        "    print(matching_entry_count, total_entry_count, accuracy)\n",
        "    print(f\"This is the accuracy: {accuracy}\")"
      ],
      "metadata": {
        "colab": {
          "base_uri": "https://localhost:8080/"
        },
        "id": "cIJmiIQY76cs",
        "outputId": "0fcc649f-2369-469a-ab9d-f167059b3f74"
      },
      "execution_count": null,
      "outputs": [
        {
          "output_type": "stream",
          "name": "stdout",
          "text": [
            "This is the loss using L1Loss(): 0.4152309000492096\n",
            "tensor([[1., 0., 0.,  ..., 0., 1., 0.],\n",
            "        [0., 1., 0.,  ..., 0., 1., 0.],\n",
            "        [1., 0., 0.,  ..., 1., 1., 0.],\n",
            "        ...,\n",
            "        [0., 0., 0.,  ..., 0., 0., 1.],\n",
            "        [1., 1., 1.,  ..., 1., 0., 1.],\n",
            "        [1., 0., 1.,  ..., 1., 1., 1.]])\n",
            "tensor([[1., 1., 1.,  ..., 0., 0., 1.],\n",
            "        [0., 1., 1.,  ..., 1., 0., 1.],\n",
            "        [0., 0., 0.,  ..., 0., 1., 0.],\n",
            "        ...,\n",
            "        [0., 1., 1.,  ..., 1., 0., 0.],\n",
            "        [1., 0., 1.,  ..., 0., 1., 1.],\n",
            "        [0., 1., 1.,  ..., 0., 1., 0.]])\n",
            "tensor(185180) 316672 tensor(0.5848)\n",
            "This is the accuracy: 0.584769070148468\n"
          ]
        }
      ]
    },
    {
      "cell_type": "markdown",
      "source": [
        "Cross Entropy Loss"
      ],
      "metadata": {
        "id": "b_W-EbyQyng0"
      }
    },
    {
      "cell_type": "code",
      "source": [
        "loss_fn = nn.CrossEntropyLoss()\n",
        "# using SGD\n",
        "optimizer = optim.SGD(model.parameters(), lr=0.01)\n",
        "train_loss_list_3_a = train_model(model, X_train, y_train, 100, loss_fn, optimizer)\n",
        "print(\"The training loss should be going down: \", train_loss_list_3_a)\n",
        "\n",
        "plt.title(\"Cross Entropy Loss using SGD\")\n",
        "plt.xlabel(\"Iteration\")\n",
        "plt.ylabel(\"Loss\")\n",
        "plt.plot(range(len(train_loss_list_3_a)), train_loss_list_3_a)\n",
        "plt.show()"
      ],
      "metadata": {
        "colab": {
          "base_uri": "https://localhost:8080/",
          "height": 510
        },
        "id": "7yucZhrp8gN4",
        "outputId": "9c58460d-0c57-40cc-9b0e-301b1a33c9e1"
      },
      "execution_count": null,
      "outputs": [
        {
          "output_type": "stream",
          "name": "stdout",
          "text": [
            "The training loss should be going down:  [56.00727081298828, 56.005943298339844, 56.004661560058594, 56.003421783447266, 56.0022087097168, 56.00102996826172, 55.99988555908203, 55.998775482177734, 55.99770736694336, 55.99665832519531, 55.99564743041992, 55.99466323852539, 55.993717193603516, 55.9927864074707, 55.99189758300781, 55.99103927612305, 55.990203857421875, 55.98939514160156, 55.98861312866211, 55.98785400390625, 55.98712158203125, 55.98641586303711, 55.98573303222656, 55.985069274902344, 55.984432220458984, 55.98381423950195, 55.983211517333984, 55.98263931274414, 55.98208236694336, 55.98154067993164, 55.981021881103516, 55.98051452636719, 55.980037689208984, 55.97956085205078, 55.9791145324707, 55.97867202758789, 55.978248596191406, 55.97783660888672, 55.977439880371094, 55.9770622253418, 55.976688385009766, 55.97633361816406, 55.975982666015625, 55.97564697265625, 55.97532272338867, 55.975013732910156, 55.97471237182617, 55.974422454833984, 55.9741325378418, 55.97385787963867, 55.973594665527344, 55.97333526611328, 55.973087310791016, 55.972843170166016, 55.97261428833008, 55.972381591796875, 55.97216796875, 55.971946716308594, 55.971744537353516, 55.97154235839844, 55.971351623535156, 55.97115707397461, 55.970977783203125, 55.970794677734375, 55.97062683105469, 55.970455169677734, 55.970298767089844, 55.97013473510742, 55.9699821472168, 55.9698371887207, 55.96969223022461, 55.969547271728516, 55.96941375732422, 55.96928024291992, 55.969146728515625, 55.96902084350586, 55.968902587890625, 55.968780517578125, 55.96866226196289, 55.96854782104492, 55.968441009521484, 55.96833419799805, 55.96822738647461, 55.96812438964844, 55.96802520751953, 55.96792984008789, 55.96783447265625, 55.96774673461914, 55.96765899658203, 55.967567443847656, 55.96747970581055, 55.96739959716797, 55.967315673828125, 55.96723556518555, 55.967159271240234, 55.96708297729492, 55.96701431274414, 55.96693801879883, 55.96686935424805, 55.966796875]\n"
          ]
        },
        {
          "output_type": "display_data",
          "data": {
            "text/plain": [
              "<Figure size 640x480 with 1 Axes>"
            ],
            "image/png": "[encoded data removed]"
          },
          "metadata": {}
        }
      ]
    },
    {
      "cell_type": "code",
      "source": [
        "# model testing\n",
        "model.eval()\n",
        "with torch.no_grad():\n",
        "    X_test_tensor = torch.from_numpy(X_test.values.astype(np.float32))\n",
        "    outputs = torch.round(model(X_test_tensor))\n",
        "    y_test_tensor = torch.from_numpy(y_test.values.astype(np.float32))\n",
        "\n",
        "    # find bceloss\n",
        "    loss = loss_fn(outputs, y_test_tensor)\n",
        "    print(f\"This is the loss using {loss_fn}: {loss}\")\n",
        "\n",
        "    # find bitwise accuracy\n",
        "    print(outputs)\n",
        "    print(y_test_tensor)\n",
        "\n",
        "    matching_entry_count = torch.sum(outputs == y_test_tensor)\n",
        "    total_entry_count = torch.numel(outputs)\n",
        "    accuracy = matching_entry_count / total_entry_count\n",
        "    print(matching_entry_count, total_entry_count, accuracy)\n",
        "    print(f\"This is the accuracy: {accuracy}\")"
      ],
      "metadata": {
        "colab": {
          "base_uri": "https://localhost:8080/"
        },
        "id": "yL6KUmiR8kxT",
        "outputId": "f30aab78-e5f2-4a42-f56a-7a3900f1094c"
      },
      "execution_count": null,
      "outputs": [
        {
          "output_type": "stream",
          "name": "stdout",
          "text": [
            "This is the loss using CrossEntropyLoss(): 55.99302673339844\n",
            "tensor([[1., 0., 0.,  ..., 0., 1., 0.],\n",
            "        [0., 1., 0.,  ..., 0., 1., 0.],\n",
            "        [1., 0., 0.,  ..., 1., 1., 0.],\n",
            "        ...,\n",
            "        [0., 0., 0.,  ..., 0., 0., 1.],\n",
            "        [1., 1., 1.,  ..., 1., 0., 1.],\n",
            "        [1., 0., 1.,  ..., 1., 1., 1.]])\n",
            "tensor([[1., 1., 1.,  ..., 0., 0., 1.],\n",
            "        [0., 1., 1.,  ..., 1., 0., 1.],\n",
            "        [0., 0., 0.,  ..., 0., 1., 0.],\n",
            "        ...,\n",
            "        [0., 1., 1.,  ..., 1., 0., 0.],\n",
            "        [1., 0., 1.,  ..., 0., 1., 1.],\n",
            "        [0., 1., 1.,  ..., 0., 1., 0.]])\n",
            "tensor(186397) 316672 tensor(0.5886)\n",
            "This is the accuracy: 0.5886121988296509\n"
          ]
        }
      ]
    },
    {
      "cell_type": "code",
      "source": [
        "# using ADAM\n",
        "optimizer = optim.Adam(model.parameters(), lr=0.01)\n",
        "train_loss_list_3_b = train_model(model, X_train, y_train, 100, loss_fn, optimizer)\n",
        "print(\"The training loss should be going down: \", train_loss_list_3_b)\n",
        "# for some reason, loss is increasing with epochs\n",
        "# should we decrease learning rate after certain # of epochs (read online as possible soln)\n",
        "\n",
        "plt.title(\"Cross Entropy Loss using ADAM\")\n",
        "plt.xlabel(\"Iteration\")\n",
        "plt.ylabel(\"Loss\")\n",
        "plt.plot(range(len(train_loss_list_3_b)), train_loss_list_3_b)\n",
        "plt.show()"
      ],
      "metadata": {
        "colab": {
          "base_uri": "https://localhost:8080/",
          "height": 468
        },
        "id": "Sq0DncwPdzJa",
        "outputId": "91cbb24c-88ff-42db-ed41-7d237898bfc7"
      },
      "execution_count": null,
      "outputs": [
        {
          "output_type": "stream",
          "name": "stdout",
          "text": [
            "The training loss should be going down:  [55.971824645996094, 56.62607192993164, 56.61094284057617, 56.4395637512207, 56.23774719238281, 55.931297302246094, 55.70515823364258, 55.578041076660156, 55.526588439941406, 55.5010871887207, 55.49651336669922, 55.49583053588867, 55.49586868286133, 55.49590301513672, 55.49590301513672, 55.49590301513672, 55.49590301513672, 55.49590301513672, 55.49590301513672, 55.49590301513672, 55.49590301513672, 55.49590301513672, 55.49590301513672, 55.49590301513672, 55.49590301513672, 55.49590301513672, 55.49590301513672, 55.49590301513672, 55.49590301513672, 55.49590301513672, 55.49590301513672, 55.49590301513672, 55.49590301513672, 55.49590301513672, 55.49590301513672, 55.49590301513672, 55.49590301513672, 55.49590301513672, 55.49590301513672, 55.49590301513672, 55.49590301513672, 55.49590301513672, 55.49590301513672, 55.49590301513672, 55.49590301513672, 55.49590301513672, 55.49590301513672, 55.49590301513672, 55.49590301513672, 55.49590301513672, 55.49590301513672, 55.49590301513672, 55.49590301513672, 55.49590301513672, 55.49590301513672, 55.49590301513672, 55.49590301513672, 55.49590301513672, 55.49590301513672, 55.49590301513672, 55.49590301513672, 55.49590301513672, 55.49590301513672, 55.49590301513672, 55.49590301513672, 55.49590301513672, 55.49590301513672, 55.49590301513672, 55.49590301513672, 55.49590301513672, 55.49590301513672, 55.49590301513672, 55.49590301513672, 55.49590301513672, 55.49590301513672, 55.49590301513672, 55.49590301513672, 55.49590301513672, 55.49590301513672, 55.49590301513672, 55.49590301513672, 55.49590301513672, 55.49590301513672, 55.49590301513672, 55.49590301513672, 55.49590301513672, 55.49590301513672, 55.49590301513672, 55.49590301513672, 55.49590301513672, 55.49590301513672, 55.49590301513672, 55.49590301513672, 55.49590301513672, 55.49590301513672, 55.49590301513672, 55.49590301513672, 55.49590301513672, 55.49590301513672, 55.49590301513672]\n"
          ]
        },
        {
          "output_type": "display_data",
          "data": {
            "text/plain": [
              "<Figure size 640x480 with 1 Axes>"
            ],
            "image/png": "[encoded data removed]"
          },
          "metadata": {}
        }
      ]
    },
    {
      "cell_type": "code",
      "source": [
        "# model testing\n",
        "model.eval()\n",
        "with torch.no_grad():\n",
        "    X_test_tensor = torch.from_numpy(X_test.values.astype(np.float32))\n",
        "    outputs = torch.round(model(X_test_tensor))\n",
        "    y_test_tensor = torch.from_numpy(y_test.values.astype(np.float32))\n",
        "\n",
        "    # find bceloss\n",
        "    loss = loss_fn(outputs, y_test_tensor)\n",
        "    print(f\"This is the loss using {loss_fn}: {loss}\")\n",
        "\n",
        "    # find bitwise accuracy\n",
        "    print(outputs)\n",
        "    print(y_test_tensor)\n",
        "\n",
        "    matching_entry_count = torch.sum(outputs == y_test_tensor)\n",
        "    total_entry_count = torch.numel(outputs)\n",
        "    accuracy = matching_entry_count / total_entry_count\n",
        "    print(matching_entry_count, total_entry_count, accuracy)\n",
        "    print(f\"This is the accuracy: {accuracy}\")"
      ],
      "metadata": {
        "colab": {
          "base_uri": "https://localhost:8080/"
        },
        "id": "zpyvlVFQ8mHA",
        "outputId": "ba1b6edb-b95e-429c-b22d-af20d970c148"
      },
      "execution_count": null,
      "outputs": [
        {
          "output_type": "stream",
          "name": "stdout",
          "text": [
            "This is the loss using CrossEntropyLoss(): 55.49590301513672\n",
            "tensor([[1., 1., 1.,  ..., 1., 1., 1.],\n",
            "        [1., 1., 1.,  ..., 1., 1., 1.],\n",
            "        [1., 1., 1.,  ..., 1., 1., 1.],\n",
            "        ...,\n",
            "        [1., 1., 1.,  ..., 1., 1., 1.],\n",
            "        [1., 1., 1.,  ..., 1., 1., 1.],\n",
            "        [1., 1., 1.,  ..., 1., 1., 1.]])\n",
            "tensor([[1., 1., 1.,  ..., 0., 0., 1.],\n",
            "        [0., 1., 1.,  ..., 1., 0., 1.],\n",
            "        [0., 0., 0.,  ..., 0., 1., 0.],\n",
            "        ...,\n",
            "        [0., 1., 1.,  ..., 1., 0., 0.],\n",
            "        [1., 0., 1.,  ..., 0., 1., 1.],\n",
            "        [0., 1., 1.,  ..., 0., 1., 0.]])\n",
            "tensor(158462) 316672 tensor(0.5004)\n",
            "This is the accuracy: 0.5003978610038757\n"
          ]
        }
      ]
    },
    {
      "cell_type": "markdown",
      "source": [
        "Smooth L1 Loss"
      ],
      "metadata": {
        "id": "ljkgiFFNxv_M"
      }
    },
    {
      "cell_type": "code",
      "source": [
        "loss_fn = nn.SmoothL1Loss()\n",
        "# using SGD\n",
        "optimizer = optim.SGD(model.parameters(), lr=0.01)\n",
        "train_loss_list_4_a = train_model(model, X_train, y_train, 100, loss_fn, optimizer)\n",
        "print(\"The training loss should be going down: \", train_loss_list_4_a)\n",
        "\n",
        "plt.title(\"Smooth L1 Loss using SGD\")\n",
        "plt.xlabel(\"Iteration\")\n",
        "plt.ylabel(\"Loss\")\n",
        "plt.plot(range(len(train_loss_list_4_a)), train_loss_list_4_a)\n",
        "plt.show()"
      ],
      "metadata": {
        "colab": {
          "base_uri": "https://localhost:8080/",
          "height": 468
        },
        "id": "CtLiOF1q88ND",
        "outputId": "bb0a36c8-18a9-40f5-ebc3-1fd34a1171d7"
      },
      "execution_count": null,
      "outputs": [
        {
          "output_type": "stream",
          "name": "stdout",
          "text": [
            "The training loss should be going down:  [0.24980105459690094, 0.24980105459690094, 0.24980105459690094, 0.24980105459690094, 0.24980105459690094, 0.24980105459690094, 0.24980105459690094, 0.24980105459690094, 0.24980105459690094, 0.24980105459690094, 0.24980105459690094, 0.24980105459690094, 0.24980105459690094, 0.24980105459690094, 0.24980105459690094, 0.24980105459690094, 0.24980105459690094, 0.24980105459690094, 0.24980105459690094, 0.24980105459690094, 0.24980105459690094, 0.24980105459690094, 0.24980105459690094, 0.24980105459690094, 0.24980105459690094, 0.24980105459690094, 0.24980105459690094, 0.24980105459690094, 0.24980105459690094, 0.24980105459690094, 0.24980105459690094, 0.24980105459690094, 0.24980105459690094, 0.24980105459690094, 0.24980105459690094, 0.24980105459690094, 0.24980105459690094, 0.24980105459690094, 0.24980105459690094, 0.24980105459690094, 0.24980105459690094, 0.24980105459690094, 0.24980105459690094, 0.24980105459690094, 0.24980105459690094, 0.24980105459690094, 0.24980105459690094, 0.24980105459690094, 0.24980105459690094, 0.24980105459690094, 0.24980105459690094, 0.24980105459690094, 0.24980105459690094, 0.24980105459690094, 0.24980105459690094, 0.24980105459690094, 0.24980105459690094, 0.24980105459690094, 0.24980105459690094, 0.24980105459690094, 0.24980105459690094, 0.24980105459690094, 0.24980105459690094, 0.24980105459690094, 0.24980105459690094, 0.24980105459690094, 0.24980105459690094, 0.24980105459690094, 0.24980105459690094, 0.24980105459690094, 0.24980105459690094, 0.24980105459690094, 0.24980105459690094, 0.24980105459690094, 0.24980105459690094, 0.24980105459690094, 0.24980105459690094, 0.24980105459690094, 0.24980105459690094, 0.24980105459690094, 0.24980105459690094, 0.24980105459690094, 0.24980105459690094, 0.24980105459690094, 0.24980105459690094, 0.24980105459690094, 0.24980105459690094, 0.24980105459690094, 0.24980105459690094, 0.24980105459690094, 0.24980105459690094, 0.24980105459690094, 0.24980105459690094, 0.24980105459690094, 0.24980105459690094, 0.24980105459690094, 0.24980105459690094, 0.24980105459690094, 0.24980105459690094, 0.24980105459690094]\n"
          ]
        },
        {
          "output_type": "display_data",
          "data": {
            "text/plain": [
              "<Figure size 640x480 with 1 Axes>"
            ],
            "image/png": "[encoded data removed]"
          },
          "metadata": {}
        }
      ]
    },
    {
      "cell_type": "code",
      "source": [
        "# model testing\n",
        "model.eval()\n",
        "with torch.no_grad():\n",
        "    X_test_tensor = torch.from_numpy(X_test.values.astype(np.float32))\n",
        "    outputs = torch.round(model(X_test_tensor))\n",
        "    y_test_tensor = torch.from_numpy(y_test.values.astype(np.float32))\n",
        "\n",
        "    # find bceloss\n",
        "    loss = loss_fn(outputs, y_test_tensor)\n",
        "    print(f\"This is the loss using {loss_fn}: {loss}\")\n",
        "\n",
        "    # find bitwise accuracy\n",
        "    print(outputs)\n",
        "    print(y_test_tensor)\n",
        "\n",
        "    matching_entry_count = torch.sum(outputs == y_test_tensor)\n",
        "    total_entry_count = torch.numel(outputs)\n",
        "    accuracy = matching_entry_count / total_entry_count\n",
        "    print(matching_entry_count, total_entry_count, accuracy)\n",
        "    print(f\"This is the accuracy: {accuracy}\")"
      ],
      "metadata": {
        "colab": {
          "base_uri": "https://localhost:8080/"
        },
        "id": "9-JrPo_G9Foq",
        "outputId": "47716a84-2192-4db2-ebc4-bfa3c966ebe4"
      },
      "execution_count": null,
      "outputs": [
        {
          "output_type": "stream",
          "name": "stdout",
          "text": [
            "This is the loss using SmoothL1Loss(): 0.24980105459690094\n",
            "tensor([[1., 1., 1.,  ..., 1., 1., 1.],\n",
            "        [1., 1., 1.,  ..., 1., 1., 1.],\n",
            "        [1., 1., 1.,  ..., 1., 1., 1.],\n",
            "        ...,\n",
            "        [1., 1., 1.,  ..., 1., 1., 1.],\n",
            "        [1., 1., 1.,  ..., 1., 1., 1.],\n",
            "        [1., 1., 1.,  ..., 1., 1., 1.]])\n",
            "tensor([[1., 1., 1.,  ..., 0., 0., 1.],\n",
            "        [0., 1., 1.,  ..., 1., 0., 1.],\n",
            "        [0., 0., 0.,  ..., 0., 1., 0.],\n",
            "        ...,\n",
            "        [0., 1., 1.,  ..., 1., 0., 0.],\n",
            "        [1., 0., 1.,  ..., 0., 1., 1.],\n",
            "        [0., 1., 1.,  ..., 0., 1., 0.]])\n",
            "tensor(158462) 316672 tensor(0.5004)\n",
            "This is the accuracy: 0.5003978610038757\n"
          ]
        }
      ]
    },
    {
      "cell_type": "code",
      "source": [
        "# using ADAM\n",
        "optimizer = optim.Adam(model.parameters(), lr=0.01)\n",
        "train_loss_list_4_b = train_model(model, X_train, y_train, 100, loss_fn, optimizer)\n",
        "print(\"The training loss should be going down: \", train_loss_list_4_b)\n",
        "\n",
        "plt.title(\"Smooth L1 Loss using ADAM\")\n",
        "plt.xlabel(\"Iteration\")\n",
        "plt.ylabel(\"Loss\")\n",
        "plt.plot(range(len(train_loss_list_4_b)), train_loss_list_4_b)\n",
        "plt.show()"
      ],
      "metadata": {
        "id": "h82lUhEgpDpy",
        "colab": {
          "base_uri": "https://localhost:8080/",
          "height": 468
        },
        "outputId": "4b19d247-cfcf-421e-f7ed-40537fd24f90"
      },
      "execution_count": null,
      "outputs": [
        {
          "output_type": "stream",
          "name": "stdout",
          "text": [
            "The training loss should be going down:  [0.24980105459690094, 0.24980105459690094, 0.24980105459690094, 0.24980105459690094, 0.24980105459690094, 0.24980105459690094, 0.24980105459690094, 0.24980105459690094, 0.24980105459690094, 0.24980105459690094, 0.24980105459690094, 0.24980105459690094, 0.24980105459690094, 0.24980105459690094, 0.24980105459690094, 0.24980105459690094, 0.24980105459690094, 0.24980105459690094, 0.24980105459690094, 0.24980105459690094, 0.24980105459690094, 0.24980105459690094, 0.24980105459690094, 0.24980105459690094, 0.24980105459690094, 0.24980105459690094, 0.24980105459690094, 0.24980105459690094, 0.24980105459690094, 0.24980105459690094, 0.24980105459690094, 0.24980105459690094, 0.24980105459690094, 0.24980105459690094, 0.24980105459690094, 0.24980105459690094, 0.24980105459690094, 0.24980105459690094, 0.24980105459690094, 0.24980105459690094, 0.24980105459690094, 0.24980105459690094, 0.24980105459690094, 0.24980105459690094, 0.24980105459690094, 0.24980105459690094, 0.24980105459690094, 0.24980105459690094, 0.24980105459690094, 0.24980105459690094, 0.24980105459690094, 0.24980105459690094, 0.24980105459690094, 0.24980105459690094, 0.24980105459690094, 0.24980105459690094, 0.24980105459690094, 0.24980105459690094, 0.24980105459690094, 0.24980105459690094, 0.24980105459690094, 0.24980105459690094, 0.24980105459690094, 0.24980105459690094, 0.24980105459690094, 0.24980105459690094, 0.24980105459690094, 0.24980105459690094, 0.24980105459690094, 0.24980105459690094, 0.24980105459690094, 0.24980105459690094, 0.24980105459690094, 0.24980105459690094, 0.24980105459690094, 0.24980105459690094, 0.24980105459690094, 0.24980105459690094, 0.24980105459690094, 0.24980105459690094, 0.24980105459690094, 0.24980105459690094, 0.24980105459690094, 0.24980105459690094, 0.24980105459690094, 0.24980105459690094, 0.24980105459690094, 0.24980105459690094, 0.24980105459690094, 0.24980105459690094, 0.24980105459690094, 0.24980105459690094, 0.24980105459690094, 0.24980105459690094, 0.24980105459690094, 0.24980105459690094, 0.24980105459690094, 0.24980105459690094, 0.24980105459690094, 0.24980105459690094]\n"
          ]
        },
        {
          "output_type": "display_data",
          "data": {
            "text/plain": [
              "<Figure size 640x480 with 1 Axes>"
            ],
            "image/png": "[encoded data removed]"
          },
          "metadata": {}
        }
      ]
    },
    {
      "cell_type": "code",
      "source": [
        "# model testing\n",
        "model.eval()\n",
        "with torch.no_grad():\n",
        "    X_test_tensor = torch.from_numpy(X_test.values.astype(np.float32))\n",
        "    outputs = torch.round(model(X_test_tensor))\n",
        "    y_test_tensor = torch.from_numpy(y_test.values.astype(np.float32))\n",
        "\n",
        "    # find bceloss\n",
        "    loss = loss_fn(outputs, y_test_tensor)\n",
        "    print(f\"This is the loss using {loss_fn}: {loss}\")\n",
        "\n",
        "    # find bitwise accuracy\n",
        "    print(outputs)\n",
        "    print(y_test_tensor)\n",
        "\n",
        "    matching_entry_count = torch.sum(outputs == y_test_tensor)\n",
        "    total_entry_count = torch.numel(outputs)\n",
        "    accuracy = matching_entry_count / total_entry_count\n",
        "    print(matching_entry_count, total_entry_count, accuracy)\n",
        "    print(f\"This is the accuracy: {accuracy}\")"
      ],
      "metadata": {
        "colab": {
          "base_uri": "https://localhost:8080/"
        },
        "id": "yNkJF3l49GTa",
        "outputId": "6d2bb401-a25f-4937-a4fa-125a2ebdd0f4"
      },
      "execution_count": null,
      "outputs": [
        {
          "output_type": "stream",
          "name": "stdout",
          "text": [
            "This is the loss using SmoothL1Loss(): 0.24980105459690094\n",
            "tensor([[1., 1., 1.,  ..., 1., 1., 1.],\n",
            "        [1., 1., 1.,  ..., 1., 1., 1.],\n",
            "        [1., 1., 1.,  ..., 1., 1., 1.],\n",
            "        ...,\n",
            "        [1., 1., 1.,  ..., 1., 1., 1.],\n",
            "        [1., 1., 1.,  ..., 1., 1., 1.],\n",
            "        [1., 1., 1.,  ..., 1., 1., 1.]])\n",
            "tensor([[1., 1., 1.,  ..., 0., 0., 1.],\n",
            "        [0., 1., 1.,  ..., 1., 0., 1.],\n",
            "        [0., 0., 0.,  ..., 0., 1., 0.],\n",
            "        ...,\n",
            "        [0., 1., 1.,  ..., 1., 0., 0.],\n",
            "        [1., 0., 1.,  ..., 0., 1., 1.],\n",
            "        [0., 1., 1.,  ..., 0., 1., 0.]])\n",
            "tensor(158462) 316672 tensor(0.5004)\n",
            "This is the accuracy: 0.5003978610038757\n"
          ]
        }
      ]
    },
    {
      "cell_type": "markdown",
      "source": [
        "Output Layer Activation of Softmax"
      ],
      "metadata": {
        "id": "EHtyw7s5yUix"
      }
    },
    {
      "cell_type": "code",
      "source": [
        "# THIS IS CODE FROM RESEARCH DOCUMENT, DO NOT LEAVE HERE\n",
        "# https://research.nccgroup.com/2021/10/15/cracking-random-number-generators-using-machine-learning-part-1-xorshift128/\n",
        "RNG_NAME = \"xorshift128plus\"\n",
        "IMPORT_COUNT = 4000000\n",
        "TEST_COUNT = 100\n",
        "LOSS_FUNCTION = nn.BCELoss()\n",
        "METRIC_FUNCTION = 'accuracy'\n",
        "BATCH_SIZE= 1024\n",
        "PREV_COUNT = 2\n",
        "\n",
        "input_size = 128\n",
        "output_size = 1\n",
        "num_heads = 4\n",
        "dim_feedforward = 2\n",
        "\n",
        "class Model(nn.Module):\n",
        "    def __init__(self, input_size, output_size, num_heads, dim_feedforward):\n",
        "        super(Model, self).__init__()\n",
        "        self.transformer = nn.TransformerEncoderLayer(dropout=0,d_model=input_size, nhead=num_heads, dim_feedforward=dim_feedforward)\n",
        "        self.out = nn.Linear(input_size, output_size)\n",
        "        self.sig = nn.Sigmoid()\n",
        "\n",
        "    def forward(self, x):\n",
        "        x = self.transformer(x)\n",
        "        x = self.out(x)\n",
        "        x = self.sig(x)\n",
        "        return x\n",
        "\n",
        "\n",
        "model = Model(X.shape[1], 1, num_heads=4, dim_feedforward=2).to(device)\n",
        "optimizer = torch.optim.NAdam(model.parameters(), lr=0.01, eps=1e-08)\n",
        "criterion = LOSS_FUNCTION\n",
        "scheduler = torch.optim.lr_scheduler.ReduceLROnPlateau(optimizer,'min',threshold=0.001,patience=2,cooldown=3)\n",
        "for epoch in range(500):\n",
        "    total_loss = 0.0\n",
        "    model.train()\n",
        "    for batch_X, batch_y in train_loader:\n",
        "        optimizer.zero_grad()\n",
        "        batch_X = batch_X.to(device)\n",
        "        batch_y = batch_y.to(device)\n",
        "        outputs = model(batch_X)\n",
        "        loss = criterion(outputs, batch_y)\n",
        "        loss.backward()\n",
        "        optimizer.step()\n",
        "        total_loss += loss.item()\n",
        "    scheduler.step(total_loss)\n",
        "    print('Epoch:', epoch, 'Loss:', total_loss / len(train_loader))\n",
        "# model evaluation\n",
        "model.eval()\n",
        "with torch.no_grad():\n",
        "    outputs = model(X_test)\n",
        "    loss = criterion(outputs, y_test)\n",
        "    print('Test Loss:', loss.item())\n",
        "    print(outputs[0],y_test[0])"
      ],
      "metadata": {
        "colab": {
          "base_uri": "https://localhost:8080/",
          "height": 408
        },
        "id": "GKJDNOGh9_Ca",
        "outputId": "0cd89b75-9663-4fb7-c364-27ef6b895566"
      },
      "execution_count": null,
      "outputs": [
        {
          "output_type": "error",
          "ename": "AssertionError",
          "evalue": "embed_dim must be divisible by num_heads",
          "traceback": [
            "\u001b[0;31m---------------------------------------------------------------------------\u001b[0m",
            "\u001b[0;31mAssertionError\u001b[0m                            Traceback (most recent call last)",
            "\u001b[0;32m<ipython-input-16-f1489e4ea18d>\u001b[0m in \u001b[0;36m<cell line: 30>\u001b[0;34m()\u001b[0m\n\u001b[1;32m     28\u001b[0m \u001b[0;34m\u001b[0m\u001b[0m\n\u001b[1;32m     29\u001b[0m \u001b[0;34m\u001b[0m\u001b[0m\n\u001b[0;32m---> 30\u001b[0;31m \u001b[0mmodel\u001b[0m \u001b[0;34m=\u001b[0m \u001b[0mModel\u001b[0m\u001b[0;34m(\u001b[0m\u001b[0mX\u001b[0m\u001b[0;34m.\u001b[0m\u001b[0mshape\u001b[0m\u001b[0;34m[\u001b[0m\u001b[0;36m1\u001b[0m\u001b[0;34m]\u001b[0m\u001b[0;34m,\u001b[0m \u001b[0;36m1\u001b[0m\u001b[0;34m,\u001b[0m \u001b[0mnum_heads\u001b[0m\u001b[0;34m=\u001b[0m\u001b[0;36m4\u001b[0m\u001b[0;34m,\u001b[0m \u001b[0mdim_feedforward\u001b[0m\u001b[0;34m=\u001b[0m\u001b[0;36m2\u001b[0m\u001b[0;34m)\u001b[0m\u001b[0;34m.\u001b[0m\u001b[0mto\u001b[0m\u001b[0;34m(\u001b[0m\u001b[0mdevice\u001b[0m\u001b[0;34m)\u001b[0m\u001b[0;34m\u001b[0m\u001b[0;34m\u001b[0m\u001b[0m\n\u001b[0m\u001b[1;32m     31\u001b[0m \u001b[0moptimizer\u001b[0m \u001b[0;34m=\u001b[0m \u001b[0mtorch\u001b[0m\u001b[0;34m.\u001b[0m\u001b[0moptim\u001b[0m\u001b[0;34m.\u001b[0m\u001b[0mNAdam\u001b[0m\u001b[0;34m(\u001b[0m\u001b[0mmodel\u001b[0m\u001b[0;34m.\u001b[0m\u001b[0mparameters\u001b[0m\u001b[0;34m(\u001b[0m\u001b[0;34m)\u001b[0m\u001b[0;34m,\u001b[0m \u001b[0mlr\u001b[0m\u001b[0;34m=\u001b[0m\u001b[0;36m0.01\u001b[0m\u001b[0;34m,\u001b[0m \u001b[0meps\u001b[0m\u001b[0;34m=\u001b[0m\u001b[0;36m1e-08\u001b[0m\u001b[0;34m)\u001b[0m\u001b[0;34m\u001b[0m\u001b[0;34m\u001b[0m\u001b[0m\n\u001b[1;32m     32\u001b[0m \u001b[0mcriterion\u001b[0m \u001b[0;34m=\u001b[0m \u001b[0mLOSS_FUNCTION\u001b[0m\u001b[0;34m\u001b[0m\u001b[0;34m\u001b[0m\u001b[0m\n",
            "\u001b[0;32m<ipython-input-16-f1489e4ea18d>\u001b[0m in \u001b[0;36m__init__\u001b[0;34m(self, input_size, output_size, num_heads, dim_feedforward)\u001b[0m\n\u001b[1;32m     17\u001b[0m     \u001b[0;32mdef\u001b[0m \u001b[0m__init__\u001b[0m\u001b[0;34m(\u001b[0m\u001b[0mself\u001b[0m\u001b[0;34m,\u001b[0m \u001b[0minput_size\u001b[0m\u001b[0;34m,\u001b[0m \u001b[0moutput_size\u001b[0m\u001b[0;34m,\u001b[0m \u001b[0mnum_heads\u001b[0m\u001b[0;34m,\u001b[0m \u001b[0mdim_feedforward\u001b[0m\u001b[0;34m)\u001b[0m\u001b[0;34m:\u001b[0m\u001b[0;34m\u001b[0m\u001b[0;34m\u001b[0m\u001b[0m\n\u001b[1;32m     18\u001b[0m         \u001b[0msuper\u001b[0m\u001b[0;34m(\u001b[0m\u001b[0mModel\u001b[0m\u001b[0;34m,\u001b[0m \u001b[0mself\u001b[0m\u001b[0;34m)\u001b[0m\u001b[0;34m.\u001b[0m\u001b[0m__init__\u001b[0m\u001b[0;34m(\u001b[0m\u001b[0;34m)\u001b[0m\u001b[0;34m\u001b[0m\u001b[0;34m\u001b[0m\u001b[0m\n\u001b[0;32m---> 19\u001b[0;31m         \u001b[0mself\u001b[0m\u001b[0;34m.\u001b[0m\u001b[0mtransformer\u001b[0m \u001b[0;34m=\u001b[0m \u001b[0mnn\u001b[0m\u001b[0;34m.\u001b[0m\u001b[0mTransformerEncoderLayer\u001b[0m\u001b[0;34m(\u001b[0m\u001b[0mdropout\u001b[0m\u001b[0;34m=\u001b[0m\u001b[0;36m0\u001b[0m\u001b[0;34m,\u001b[0m\u001b[0md_model\u001b[0m\u001b[0;34m=\u001b[0m\u001b[0minput_size\u001b[0m\u001b[0;34m,\u001b[0m \u001b[0mnhead\u001b[0m\u001b[0;34m=\u001b[0m\u001b[0mnum_heads\u001b[0m\u001b[0;34m,\u001b[0m \u001b[0mdim_feedforward\u001b[0m\u001b[0;34m=\u001b[0m\u001b[0mdim_feedforward\u001b[0m\u001b[0;34m)\u001b[0m\u001b[0;34m\u001b[0m\u001b[0;34m\u001b[0m\u001b[0m\n\u001b[0m\u001b[1;32m     20\u001b[0m         \u001b[0mself\u001b[0m\u001b[0;34m.\u001b[0m\u001b[0mout\u001b[0m \u001b[0;34m=\u001b[0m \u001b[0mnn\u001b[0m\u001b[0;34m.\u001b[0m\u001b[0mLinear\u001b[0m\u001b[0;34m(\u001b[0m\u001b[0minput_size\u001b[0m\u001b[0;34m,\u001b[0m \u001b[0moutput_size\u001b[0m\u001b[0;34m)\u001b[0m\u001b[0;34m\u001b[0m\u001b[0;34m\u001b[0m\u001b[0m\n\u001b[1;32m     21\u001b[0m         \u001b[0mself\u001b[0m\u001b[0;34m.\u001b[0m\u001b[0msig\u001b[0m \u001b[0;34m=\u001b[0m \u001b[0mnn\u001b[0m\u001b[0;34m.\u001b[0m\u001b[0mSigmoid\u001b[0m\u001b[0;34m(\u001b[0m\u001b[0;34m)\u001b[0m\u001b[0;34m\u001b[0m\u001b[0;34m\u001b[0m\u001b[0m\n",
            "\u001b[0;32m/usr/local/lib/python3.10/dist-packages/torch/nn/modules/transformer.py\u001b[0m in \u001b[0;36m__init__\u001b[0;34m(self, d_model, nhead, dim_feedforward, dropout, activation, layer_norm_eps, batch_first, norm_first, bias, device, dtype)\u001b[0m\n\u001b[1;32m    558\u001b[0m         \u001b[0mfactory_kwargs\u001b[0m \u001b[0;34m=\u001b[0m \u001b[0;34m{\u001b[0m\u001b[0;34m'device'\u001b[0m\u001b[0;34m:\u001b[0m \u001b[0mdevice\u001b[0m\u001b[0;34m,\u001b[0m \u001b[0;34m'dtype'\u001b[0m\u001b[0;34m:\u001b[0m \u001b[0mdtype\u001b[0m\u001b[0;34m}\u001b[0m\u001b[0;34m\u001b[0m\u001b[0;34m\u001b[0m\u001b[0m\n\u001b[1;32m    559\u001b[0m         \u001b[0msuper\u001b[0m\u001b[0;34m(\u001b[0m\u001b[0;34m)\u001b[0m\u001b[0;34m.\u001b[0m\u001b[0m__init__\u001b[0m\u001b[0;34m(\u001b[0m\u001b[0;34m)\u001b[0m\u001b[0;34m\u001b[0m\u001b[0;34m\u001b[0m\u001b[0m\n\u001b[0;32m--> 560\u001b[0;31m         self.self_attn = MultiheadAttention(d_model, nhead, dropout=dropout,\n\u001b[0m\u001b[1;32m    561\u001b[0m                                             \u001b[0mbias\u001b[0m\u001b[0;34m=\u001b[0m\u001b[0mbias\u001b[0m\u001b[0;34m,\u001b[0m \u001b[0mbatch_first\u001b[0m\u001b[0;34m=\u001b[0m\u001b[0mbatch_first\u001b[0m\u001b[0;34m,\u001b[0m\u001b[0;34m\u001b[0m\u001b[0;34m\u001b[0m\u001b[0m\n\u001b[1;32m    562\u001b[0m                                             **factory_kwargs)\n",
            "\u001b[0;32m/usr/local/lib/python3.10/dist-packages/torch/nn/modules/activation.py\u001b[0m in \u001b[0;36m__init__\u001b[0;34m(self, embed_dim, num_heads, dropout, bias, add_bias_kv, add_zero_attn, kdim, vdim, batch_first, device, dtype)\u001b[0m\n\u001b[1;32m    989\u001b[0m         \u001b[0mself\u001b[0m\u001b[0;34m.\u001b[0m\u001b[0mbatch_first\u001b[0m \u001b[0;34m=\u001b[0m \u001b[0mbatch_first\u001b[0m\u001b[0;34m\u001b[0m\u001b[0;34m\u001b[0m\u001b[0m\n\u001b[1;32m    990\u001b[0m         \u001b[0mself\u001b[0m\u001b[0;34m.\u001b[0m\u001b[0mhead_dim\u001b[0m \u001b[0;34m=\u001b[0m \u001b[0membed_dim\u001b[0m \u001b[0;34m//\u001b[0m \u001b[0mnum_heads\u001b[0m\u001b[0;34m\u001b[0m\u001b[0;34m\u001b[0m\u001b[0m\n\u001b[0;32m--> 991\u001b[0;31m         \u001b[0;32massert\u001b[0m \u001b[0mself\u001b[0m\u001b[0;34m.\u001b[0m\u001b[0mhead_dim\u001b[0m \u001b[0;34m*\u001b[0m \u001b[0mnum_heads\u001b[0m \u001b[0;34m==\u001b[0m \u001b[0mself\u001b[0m\u001b[0;34m.\u001b[0m\u001b[0membed_dim\u001b[0m\u001b[0;34m,\u001b[0m \u001b[0;34m\"embed_dim must be divisible by num_heads\"\u001b[0m\u001b[0;34m\u001b[0m\u001b[0;34m\u001b[0m\u001b[0m\n\u001b[0m\u001b[1;32m    992\u001b[0m \u001b[0;34m\u001b[0m\u001b[0m\n\u001b[1;32m    993\u001b[0m         \u001b[0;32mif\u001b[0m \u001b[0;32mnot\u001b[0m \u001b[0mself\u001b[0m\u001b[0;34m.\u001b[0m\u001b[0m_qkv_same_embed_dim\u001b[0m\u001b[0;34m:\u001b[0m\u001b[0;34m\u001b[0m\u001b[0;34m\u001b[0m\u001b[0m\n",
            "\u001b[0;31mAssertionError\u001b[0m: embed_dim must be divisible by num_heads"
          ]
        }
      ]
    }
  ]
}